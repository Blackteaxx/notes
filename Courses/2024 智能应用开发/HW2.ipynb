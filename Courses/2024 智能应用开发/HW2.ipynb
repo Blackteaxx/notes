{
 "cells": [
  {
   "cell_type": "code",
   "execution_count": 21,
   "metadata": {},
   "outputs": [],
   "source": [
    "import torch\n",
    "import torch.nn as nn"
   ]
  },
  {
   "cell_type": "code",
   "execution_count": 6,
   "metadata": {},
   "outputs": [
    {
     "name": "stdout",
     "output_type": "stream",
     "text": [
      "torch.Size([10, 5])\n"
     ]
    }
   ],
   "source": [
    "x = torch.randn(10, 3)\n",
    "W = torch.randn(3, 5)\n",
    "y = x @ W\n",
    "print(y.shape)"
   ]
  },
  {
   "cell_type": "code",
   "execution_count": 8,
   "metadata": {},
   "outputs": [
    {
     "name": "stdout",
     "output_type": "stream",
     "text": [
      "torch.Size([128, 5])\n"
     ]
    }
   ],
   "source": [
    "input = torch.randn(128, 3)\n",
    "linear1 = nn.Linear(3, 5, bias=True, device='cpu')\n",
    "output = linear1(input)\n",
    "print(output.shape)"
   ]
  },
  {
   "cell_type": "code",
   "execution_count": 16,
   "metadata": {},
   "outputs": [
    {
     "name": "stdout",
     "output_type": "stream",
     "text": [
      "torch.float32 cuda:0\n",
      "torch.bfloat16 cuda:0\n"
     ]
    }
   ],
   "source": [
    "print(linear1.weight.dtype, linear1.weight.device)\n",
    "linear1.to('cuda')\n",
    "w3 = linear1.weight.bfloat16()\n",
    "print(w3.dtype, linear1.weight.device)"
   ]
  },
  {
   "cell_type": "code",
   "execution_count": 17,
   "metadata": {},
   "outputs": [
    {
     "name": "stdout",
     "output_type": "stream",
     "text": [
      "torch.Size([128, 5, 32, 32])\n"
     ]
    }
   ],
   "source": [
    "nn.Conv2d(3, 5, 3, 1, 1)\n",
    "img = torch.randn(128, 3, 32, 32)\n",
    "o = nn.Conv2d(3, 5, 3, 1, 1)(img)\n",
    "print(o.shape)"
   ]
  },
  {
   "cell_type": "code",
   "execution_count": 18,
   "metadata": {},
   "outputs": [
    {
     "name": "stdout",
     "output_type": "stream",
     "text": [
      "Downloading http://fashion-mnist.s3-website.eu-central-1.amazonaws.com/train-images-idx3-ubyte.gz\n",
      "Downloading http://fashion-mnist.s3-website.eu-central-1.amazonaws.com/train-images-idx3-ubyte.gz to data\\FashionMNIST\\raw\\train-images-idx3-ubyte.gz\n"
     ]
    },
    {
     "name": "stderr",
     "output_type": "stream",
     "text": [
      "100%|██████████| 26421880/26421880 [00:09<00:00, 2758967.13it/s]\n"
     ]
    },
    {
     "name": "stdout",
     "output_type": "stream",
     "text": [
      "Extracting data\\FashionMNIST\\raw\\train-images-idx3-ubyte.gz to data\\FashionMNIST\\raw\n",
      "\n",
      "Downloading http://fashion-mnist.s3-website.eu-central-1.amazonaws.com/train-labels-idx1-ubyte.gz\n",
      "Downloading http://fashion-mnist.s3-website.eu-central-1.amazonaws.com/train-labels-idx1-ubyte.gz to data\\FashionMNIST\\raw\\train-labels-idx1-ubyte.gz\n"
     ]
    },
    {
     "name": "stderr",
     "output_type": "stream",
     "text": [
      "100%|██████████| 29515/29515 [00:00<00:00, 108348.31it/s]\n"
     ]
    },
    {
     "name": "stdout",
     "output_type": "stream",
     "text": [
      "Extracting data\\FashionMNIST\\raw\\train-labels-idx1-ubyte.gz to data\\FashionMNIST\\raw\n",
      "\n",
      "Downloading http://fashion-mnist.s3-website.eu-central-1.amazonaws.com/t10k-images-idx3-ubyte.gz\n",
      "Downloading http://fashion-mnist.s3-website.eu-central-1.amazonaws.com/t10k-images-idx3-ubyte.gz to data\\FashionMNIST\\raw\\t10k-images-idx3-ubyte.gz\n"
     ]
    },
    {
     "name": "stderr",
     "output_type": "stream",
     "text": [
      "100%|██████████| 4422102/4422102 [00:03<00:00, 1135028.76it/s]\n"
     ]
    },
    {
     "name": "stdout",
     "output_type": "stream",
     "text": [
      "Extracting data\\FashionMNIST\\raw\\t10k-images-idx3-ubyte.gz to data\\FashionMNIST\\raw\n",
      "\n",
      "Downloading http://fashion-mnist.s3-website.eu-central-1.amazonaws.com/t10k-labels-idx1-ubyte.gz\n",
      "Downloading http://fashion-mnist.s3-website.eu-central-1.amazonaws.com/t10k-labels-idx1-ubyte.gz to data\\FashionMNIST\\raw\\t10k-labels-idx1-ubyte.gz\n"
     ]
    },
    {
     "name": "stderr",
     "output_type": "stream",
     "text": [
      "100%|██████████| 5148/5148 [00:00<00:00, 4857655.12it/s]"
     ]
    },
    {
     "name": "stdout",
     "output_type": "stream",
     "text": [
      "Extracting data\\FashionMNIST\\raw\\t10k-labels-idx1-ubyte.gz to data\\FashionMNIST\\raw\n",
      "\n"
     ]
    },
    {
     "name": "stderr",
     "output_type": "stream",
     "text": [
      "\n"
     ]
    }
   ],
   "source": [
    "from torch.utils.data import DataLoader, Dataset\n",
    "from torchvision import datasets\n",
    "from torchvision import transforms\n",
    "\n",
    "train = datasets.FashionMNIST(\n",
    "    root='data', train=True, download=True, \n",
    "    transform=transforms.ToTensor())\n",
    "\n",
    "test = datasets.FashionMNIST(\n",
    "    root='data', train=False, download=True, \n",
    "    transform=transforms.ToTensor())\n",
    "\n",
    "train_loader = DataLoader(train, batch_size=32, shuffle=True)\n",
    "test_loader = DataLoader(test, batch_size=32, shuffle=False)"
   ]
  },
  {
   "cell_type": "code",
   "execution_count": 19,
   "metadata": {},
   "outputs": [
    {
     "data": {
      "text/plain": [
       "(torch.Size([32, 1, 28, 28]), torch.Size([32]))"
      ]
     },
     "execution_count": 19,
     "metadata": {},
     "output_type": "execute_result"
    }
   ],
   "source": [
    "train_iter = iter(train_loader)\n",
    "images, labels = next(train_iter)\n",
    "images.shape, labels.shape "
   ]
  },
  {
   "cell_type": "code",
   "execution_count": 23,
   "metadata": {},
   "outputs": [
    {
     "name": "stdout",
     "output_type": "stream",
     "text": [
      "torch.Size([32, 10])\n"
     ]
    }
   ],
   "source": [
    "class LeNet(nn.Module):\n",
    "    def __init__(self):\n",
    "        super(LeNet, self).__init__()\n",
    "        self.conv1 = nn.Conv2d(1, 6, 5)\n",
    "        self.conv2 = nn.Conv2d(6, 16, 5)\n",
    "        self.fc1 = nn.Linear(16*4*4, 120)\n",
    "        self.fc2 = nn.Linear(120, 84)\n",
    "        self.fc3 = nn.Linear(84, 10)\n",
    "\n",
    "    def forward(self, x):\n",
    "        x = torch.relu(self.conv1(x))\n",
    "        x = torch.max_pool2d(x, 2)\n",
    "        x = torch.relu(self.conv2(x))\n",
    "        x = torch.max_pool2d(x, 2)\n",
    "        x = x.view(-1, 16*4*4)\n",
    "        x = torch.relu(self.fc1(x))\n",
    "        x = torch.relu(self.fc2(x))\n",
    "        x = self.fc3(x)\n",
    "        return x\n",
    "    \n",
    "lenet = LeNet()\n",
    "output = lenet(images)\n",
    "print(output.shape)"
   ]
  },
  {
   "cell_type": "code",
   "execution_count": 24,
   "metadata": {},
   "outputs": [
    {
     "name": "stdout",
     "output_type": "stream",
     "text": [
      "Epoch 0, Loss: 2.3150200843811035\n",
      "Epoch 0, Loss: 1.0898656845092773\n",
      "Epoch 0, Loss: 0.8683124780654907\n",
      "Epoch 0, Loss: 0.8185096383094788\n",
      "Epoch 0, Loss: 0.6437197327613831\n",
      "Epoch 0, Loss: 0.779932975769043\n",
      "Epoch 0, Loss: 0.48604175448417664\n",
      "Epoch 0, Loss: 0.7252881526947021\n",
      "Epoch 0, Loss: 0.4339439570903778\n",
      "Epoch 0, Loss: 0.35256826877593994\n",
      "Epoch 0, Loss: 0.49526628851890564\n",
      "Epoch 0, Loss: 0.3143845200538635\n",
      "Epoch 0, Loss: 0.42572683095932007\n",
      "Epoch 0, Loss: 0.3852396011352539\n",
      "Epoch 0, Loss: 0.5696452856063843\n",
      "Epoch 0, Loss: 0.4369112551212311\n",
      "Epoch 0, Loss: 0.7685883641242981\n",
      "Epoch 0, Loss: 0.31939011812210083\n",
      "Epoch 0, Loss: 0.7180009484291077\n",
      "Epoch 1, Loss: 0.5560163259506226\n",
      "Epoch 1, Loss: 0.4160979688167572\n",
      "Epoch 1, Loss: 0.5232569575309753\n",
      "Epoch 1, Loss: 0.5342051982879639\n",
      "Epoch 1, Loss: 0.28193604946136475\n",
      "Epoch 1, Loss: 0.3335415720939636\n",
      "Epoch 1, Loss: 0.3790576159954071\n",
      "Epoch 1, Loss: 0.4737567603588104\n",
      "Epoch 1, Loss: 0.3045908808708191\n",
      "Epoch 1, Loss: 0.35865819454193115\n",
      "Epoch 1, Loss: 0.20249463617801666\n",
      "Epoch 1, Loss: 0.47446542978286743\n",
      "Epoch 1, Loss: 0.3330070674419403\n",
      "Epoch 1, Loss: 0.2369460016489029\n",
      "Epoch 1, Loss: 0.4402645528316498\n",
      "Epoch 1, Loss: 0.8224311470985413\n",
      "Epoch 1, Loss: 0.2826629877090454\n",
      "Epoch 1, Loss: 0.3197367787361145\n",
      "Epoch 1, Loss: 0.5206495523452759\n",
      "Epoch 2, Loss: 0.25500816106796265\n",
      "Epoch 2, Loss: 0.2750687599182129\n",
      "Epoch 2, Loss: 0.4049888253211975\n",
      "Epoch 2, Loss: 0.1404915601015091\n",
      "Epoch 2, Loss: 0.25966760516166687\n",
      "Epoch 2, Loss: 0.4788282811641693\n",
      "Epoch 2, Loss: 0.11545750498771667\n",
      "Epoch 2, Loss: 0.28523141145706177\n",
      "Epoch 2, Loss: 0.40816158056259155\n",
      "Epoch 2, Loss: 0.6884390711784363\n",
      "Epoch 2, Loss: 0.3116707503795624\n",
      "Epoch 2, Loss: 0.3379879891872406\n",
      "Epoch 2, Loss: 0.3856912851333618\n",
      "Epoch 2, Loss: 0.38757601380348206\n",
      "Epoch 2, Loss: 0.269784152507782\n",
      "Epoch 2, Loss: 0.22194191813468933\n",
      "Epoch 2, Loss: 0.3462241590023041\n",
      "Epoch 2, Loss: 0.4341723620891571\n",
      "Epoch 2, Loss: 0.26281291246414185\n",
      "Epoch 3, Loss: 0.3184853494167328\n",
      "Epoch 3, Loss: 0.46180298924446106\n",
      "Epoch 3, Loss: 0.2625562846660614\n",
      "Epoch 3, Loss: 0.30676373839378357\n",
      "Epoch 3, Loss: 0.2094067484140396\n",
      "Epoch 3, Loss: 0.29276180267333984\n",
      "Epoch 3, Loss: 0.13217538595199585\n",
      "Epoch 3, Loss: 0.32746270298957825\n",
      "Epoch 3, Loss: 0.48131269216537476\n",
      "Epoch 3, Loss: 0.4651223123073578\n",
      "Epoch 3, Loss: 0.25822871923446655\n",
      "Epoch 3, Loss: 0.20757141709327698\n",
      "Epoch 3, Loss: 0.21375657618045807\n",
      "Epoch 3, Loss: 0.34489378333091736\n",
      "Epoch 3, Loss: 0.33120739459991455\n",
      "Epoch 3, Loss: 0.45346659421920776\n",
      "Epoch 3, Loss: 0.42237743735313416\n",
      "Epoch 3, Loss: 0.2444514036178589\n",
      "Epoch 3, Loss: 0.2559750974178314\n",
      "Epoch 4, Loss: 0.3653838336467743\n",
      "Epoch 4, Loss: 0.3202785849571228\n",
      "Epoch 4, Loss: 0.29773539304733276\n",
      "Epoch 4, Loss: 0.2970621585845947\n",
      "Epoch 4, Loss: 0.3820940852165222\n",
      "Epoch 4, Loss: 0.2011902779340744\n",
      "Epoch 4, Loss: 0.2677435278892517\n",
      "Epoch 4, Loss: 0.22313401103019714\n",
      "Epoch 4, Loss: 0.29678449034690857\n",
      "Epoch 4, Loss: 0.12299297749996185\n",
      "Epoch 4, Loss: 0.2392778843641281\n",
      "Epoch 4, Loss: 0.27270469069480896\n",
      "Epoch 4, Loss: 0.5134335160255432\n",
      "Epoch 4, Loss: 0.4741292893886566\n",
      "Epoch 4, Loss: 0.3283558487892151\n",
      "Epoch 4, Loss: 0.42630666494369507\n",
      "Epoch 4, Loss: 0.33900195360183716\n",
      "Epoch 4, Loss: 0.5086729526519775\n",
      "Epoch 4, Loss: 0.2547132968902588\n",
      "Epoch 5, Loss: 0.10532064735889435\n",
      "Epoch 5, Loss: 0.2939381003379822\n",
      "Epoch 5, Loss: 0.15808792412281036\n",
      "Epoch 5, Loss: 0.4836847186088562\n",
      "Epoch 5, Loss: 0.20766183733940125\n",
      "Epoch 5, Loss: 0.20659670233726501\n",
      "Epoch 5, Loss: 0.4727613925933838\n",
      "Epoch 5, Loss: 0.2490445226430893\n",
      "Epoch 5, Loss: 0.10049604624509811\n",
      "Epoch 5, Loss: 0.29784685373306274\n",
      "Epoch 5, Loss: 0.3772483766078949\n",
      "Epoch 5, Loss: 0.519252359867096\n",
      "Epoch 5, Loss: 0.2749581038951874\n",
      "Epoch 5, Loss: 0.11077766865491867\n",
      "Epoch 5, Loss: 0.19662947952747345\n",
      "Epoch 5, Loss: 0.15914779901504517\n",
      "Epoch 5, Loss: 0.2037476748228073\n",
      "Epoch 5, Loss: 0.3793036937713623\n",
      "Epoch 5, Loss: 0.5429995059967041\n",
      "Epoch 6, Loss: 0.18587236106395721\n",
      "Epoch 6, Loss: 0.1463318020105362\n",
      "Epoch 6, Loss: 0.15099020302295685\n",
      "Epoch 6, Loss: 0.24630911648273468\n",
      "Epoch 6, Loss: 0.14057740569114685\n",
      "Epoch 6, Loss: 0.3453027904033661\n",
      "Epoch 6, Loss: 0.267794132232666\n",
      "Epoch 6, Loss: 0.2390962541103363\n",
      "Epoch 6, Loss: 0.12722212076187134\n",
      "Epoch 6, Loss: 0.6071646213531494\n",
      "Epoch 6, Loss: 0.2046891152858734\n",
      "Epoch 6, Loss: 0.13880343735218048\n",
      "Epoch 6, Loss: 0.2863268554210663\n",
      "Epoch 6, Loss: 0.49227175116539\n",
      "Epoch 6, Loss: 0.4183610677719116\n",
      "Epoch 6, Loss: 0.2664214074611664\n",
      "Epoch 6, Loss: 0.30967801809310913\n",
      "Epoch 6, Loss: 0.4552291929721832\n",
      "Epoch 6, Loss: 0.12869037687778473\n",
      "Epoch 7, Loss: 0.48386096954345703\n",
      "Epoch 7, Loss: 0.09474397450685501\n",
      "Epoch 7, Loss: 0.42988520860671997\n",
      "Epoch 7, Loss: 0.2779301404953003\n",
      "Epoch 7, Loss: 0.16832180321216583\n",
      "Epoch 7, Loss: 0.10842970013618469\n",
      "Epoch 7, Loss: 0.16266724467277527\n",
      "Epoch 7, Loss: 0.7791365385055542\n",
      "Epoch 7, Loss: 0.2275373637676239\n",
      "Epoch 7, Loss: 0.19511808454990387\n",
      "Epoch 7, Loss: 0.2526712119579315\n",
      "Epoch 7, Loss: 0.10925375670194626\n",
      "Epoch 7, Loss: 0.08428819477558136\n",
      "Epoch 7, Loss: 0.3182499408721924\n",
      "Epoch 7, Loss: 0.38193950057029724\n",
      "Epoch 7, Loss: 0.11191578209400177\n",
      "Epoch 7, Loss: 0.29331809282302856\n",
      "Epoch 7, Loss: 0.6925193667411804\n",
      "Epoch 7, Loss: 0.20443297922611237\n",
      "Epoch 8, Loss: 0.05898672342300415\n",
      "Epoch 8, Loss: 0.20717667043209076\n",
      "Epoch 8, Loss: 0.1808902770280838\n",
      "Epoch 8, Loss: 0.14829544723033905\n",
      "Epoch 8, Loss: 0.1778993308544159\n",
      "Epoch 8, Loss: 0.2792922556400299\n",
      "Epoch 8, Loss: 0.06919500976800919\n",
      "Epoch 8, Loss: 0.4175902009010315\n",
      "Epoch 8, Loss: 0.16870883107185364\n",
      "Epoch 8, Loss: 0.2848699390888214\n",
      "Epoch 8, Loss: 0.33283349871635437\n",
      "Epoch 8, Loss: 0.0670987218618393\n",
      "Epoch 8, Loss: 0.1404210478067398\n",
      "Epoch 8, Loss: 0.18234659731388092\n",
      "Epoch 8, Loss: 0.296257346868515\n",
      "Epoch 8, Loss: 0.24390092492103577\n",
      "Epoch 8, Loss: 0.20538175106048584\n",
      "Epoch 8, Loss: 0.10841798782348633\n",
      "Epoch 8, Loss: 0.18742869794368744\n",
      "Epoch 9, Loss: 0.08802463114261627\n",
      "Epoch 9, Loss: 0.18497735261917114\n",
      "Epoch 9, Loss: 0.27091091871261597\n",
      "Epoch 9, Loss: 0.24304547905921936\n",
      "Epoch 9, Loss: 0.1806388795375824\n",
      "Epoch 9, Loss: 0.1855379194021225\n",
      "Epoch 9, Loss: 0.27515801787376404\n",
      "Epoch 9, Loss: 0.19226180016994476\n",
      "Epoch 9, Loss: 0.1753999888896942\n",
      "Epoch 9, Loss: 0.1331072598695755\n",
      "Epoch 9, Loss: 0.17160139977931976\n",
      "Epoch 9, Loss: 0.4354119300842285\n",
      "Epoch 9, Loss: 0.3121415674686432\n",
      "Epoch 9, Loss: 0.15401120483875275\n",
      "Epoch 9, Loss: 0.13454371690750122\n",
      "Epoch 9, Loss: 0.3688867688179016\n",
      "Epoch 9, Loss: 0.05371120944619179\n",
      "Epoch 9, Loss: 0.42509710788726807\n",
      "Epoch 9, Loss: 0.1903328150510788\n",
      "Accuracy: 88.1\n"
     ]
    }
   ],
   "source": [
    "criterion = nn.CrossEntropyLoss()\n",
    "optimizer = torch.optim.Adam(lenet.parameters(), lr=0.001)\n",
    "\n",
    "for epoch in range(10):\n",
    "    for i, (images, labels) in enumerate(train_loader):\n",
    "        optimizer.zero_grad()\n",
    "        outputs = lenet(images)\n",
    "        loss = criterion(outputs, labels)\n",
    "        loss.backward()\n",
    "        optimizer.step()\n",
    "        if i % 100 == 0:\n",
    "            print(f'Epoch {epoch}, Loss: {loss.item()}')\n",
    "            \n",
    "correct = 0\n",
    "total = 0\n",
    "with torch.no_grad():\n",
    "    for images, labels in test_loader:\n",
    "        outputs = lenet(images)\n",
    "        _, predicted = torch.max(outputs, 1)\n",
    "        total += labels.size(0)\n",
    "        correct += (predicted == labels).sum().item()\n",
    "        \n",
    "print(f'Accuracy: {100 * correct / total}')"
   ]
  }
 ],
 "metadata": {
  "kernelspec": {
   "display_name": "base",
   "language": "python",
   "name": "python3"
  },
  "language_info": {
   "codemirror_mode": {
    "name": "ipython",
    "version": 3
   },
   "file_extension": ".py",
   "mimetype": "text/x-python",
   "name": "python",
   "nbconvert_exporter": "python",
   "pygments_lexer": "ipython3",
   "version": "3.9.12"
  }
 },
 "nbformat": 4,
 "nbformat_minor": 2
}
