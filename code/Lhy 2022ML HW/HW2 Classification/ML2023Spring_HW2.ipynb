{
  "cells": [
    {
      "cell_type": "markdown",
      "metadata": {
        "id": "OYlaRwNu7ojq"
      },
      "source": [
        "# **Homework 2: Phoneme Classification**\n"
      ]
    },
    {
      "cell_type": "markdown",
      "metadata": {
        "id": "A7DRC5V7_8A5"
      },
      "source": [
        "Objectives:\n",
        "* Solve a classification problem with deep neural networks (DNNs).\n",
        "* Understand recursive neural networks (RNNs).\n",
        "\n",
        "If you have any questions, please contact the TAs via TA hours, NTU COOL, or email to mlta-2023-spring@googlegroups.com"
      ]
    },
    {
      "cell_type": "markdown",
      "metadata": {
        "id": "KVUGfWTo7_Oj"
      },
      "source": [
        "# Download Data\n",
        "Download data from google drive, then unzip it.\n",
        "\n",
        "You should have\n",
        "- `libriphone/train_split.txt`: training metadata\n",
        "- `libriphone/train_labels`: training labels\n",
        "- `libriphone/test_split.txt`: testing metadata\n",
        "- `libriphone/feat/train/*.pt`: training feature\n",
        "- `libriphone/feat/test/*.pt`:  testing feature\n",
        "\n",
        "after running the following block.\n",
        "\n",
        "> **Notes: if the google drive link is dead, you can download the data directly from [Kaggle](https://www.kaggle.com/c/ml2023spring-hw2/data) and upload it to the workspace.**\n"
      ]
    },
    {
      "cell_type": "code",
      "execution_count": 1,
      "metadata": {
        "id": "OzkiMEcC3Foq"
      },
      "outputs": [
        {
          "name": "stdout",
          "output_type": "stream",
          "text": [
            "Active code page: 65001\n"
          ]
        },
        {
          "name": "stderr",
          "output_type": "stream",
          "text": [
            "'ls' is not recognized as an internal or external command,\n",
            "operable program or batch file.\n"
          ]
        }
      ],
      "source": [
        "!ls libriphone"
      ]
    },
    {
      "cell_type": "markdown",
      "metadata": {
        "id": "pADUiYODJE1O"
      },
      "source": [
        "# Some Utility Functions\n",
        "**Fixes random number generator seeds for reproducibility.**"
      ]
    },
    {
      "cell_type": "code",
      "execution_count": 1,
      "metadata": {
        "id": "BsZKgBZQJjaE"
      },
      "outputs": [],
      "source": [
        "import numpy as np\n",
        "import torch\n",
        "import random\n",
        "from torch.utils.tensorboard import SummaryWriter\n",
        "\n",
        "def same_seeds(seed):\n",
        "    random.seed(seed) \n",
        "    np.random.seed(seed)  \n",
        "    torch.manual_seed(seed)\n",
        "    if torch.cuda.is_available():\n",
        "        torch.cuda.manual_seed(seed)\n",
        "        torch.cuda.manual_seed_all(seed) \n",
        "    torch.backends.cudnn.benchmark = False\n",
        "    torch.backends.cudnn.deterministic = True"
      ]
    },
    {
      "cell_type": "markdown",
      "metadata": {
        "id": "_L_4anls8Drv"
      },
      "source": [
        "**Helper functions to pre-process the training data from raw MFCC features of each utterance.**\n",
        "\n",
        "A phoneme may span several frames and is dependent to past and future frames. \\\n",
        "Hence we concatenate neighboring phonemes for training to achieve higher accuracy. The **concat_feat** function concatenates past and future k frames (total 2k+1 = n frames), and we predict the center frame.\n",
        "\n",
        "Feel free to modify the data preprocess functions, but **do not drop any frame** (if you modify the functions, remember to check that the number of frames are the same as mentioned in the slides)"
      ]
    },
    {
      "cell_type": "code",
      "execution_count": 2,
      "metadata": {
        "id": "IJjLT8em-y9G"
      },
      "outputs": [],
      "source": [
        "import os\n",
        "import torch\n",
        "from tqdm import tqdm\n",
        "\n",
        "def load_feat(path):\n",
        "    feat = torch.load(path)\n",
        "    return feat\n",
        "\n",
        "def shift(x, n):\n",
        "    if n < 0:\n",
        "        left = x[0].repeat(-n, 1)\n",
        "        right = x[:n]\n",
        "    elif n > 0:\n",
        "        right = x[-1].repeat(n, 1)\n",
        "        left = x[n:]\n",
        "    else:\n",
        "        return x\n",
        "\n",
        "    return torch.cat((left, right), dim=0)\n",
        "\n",
        "def concat_feat(x, concat_n):\n",
        "    assert concat_n % 2 == 1 # n must be odd\n",
        "    if concat_n < 2:\n",
        "        return x\n",
        "    seq_len, feature_dim = x.size(0), x.size(1)\n",
        "    x = x.repeat(1, concat_n) # seq_len, feature_dim * n\n",
        "    x = x.view(seq_len, concat_n, feature_dim).permute(1, 0, 2) # concat_n, seq_len, feature_dim\n",
        "    mid = (concat_n // 2)\n",
        "    for r_idx in range(1, mid+1):\n",
        "        x[mid + r_idx, :] = shift(x[mid + r_idx], r_idx)\n",
        "        x[mid - r_idx, :] = shift(x[mid - r_idx], -r_idx)\n",
        "\n",
        "    return x.permute(1, 0, 2).view(seq_len, concat_n * feature_dim)\n",
        "\n",
        "def preprocess_data(split, feat_dir, phone_path, concat_nframes, train_ratio=0.8):\n",
        "    class_num = 41 # NOTE: pre-computed, should not need change\n",
        "\n",
        "    if split == 'train' or split == 'val':\n",
        "        mode = 'train'\n",
        "    elif split == 'test':\n",
        "        mode = 'test'\n",
        "    else:\n",
        "        raise ValueError('Invalid \\'split\\' argument for dataset: PhoneDataset!')\n",
        "\n",
        "    label_dict = {}\n",
        "    if mode == 'train':\n",
        "        for line in open(os.path.join(phone_path, f'{mode}_labels.txt')).readlines():\n",
        "            line = line.strip('\\n').split(' ')\n",
        "            label_dict[line[0]] = [int(p) for p in line[1:]]\n",
        "        \n",
        "        # split training and validation data\n",
        "        usage_list = open(os.path.join(phone_path, 'train_split.txt')).readlines()\n",
        "        random.shuffle(usage_list)\n",
        "        train_len = int(len(usage_list) * train_ratio)\n",
        "        usage_list = usage_list[:train_len] if split == 'train' else usage_list[train_len:]\n",
        "\n",
        "    elif mode == 'test':\n",
        "        usage_list = open(os.path.join(phone_path, 'test_split.txt')).readlines()\n",
        "\n",
        "    usage_list = [line.strip('\\n') for line in usage_list]\n",
        "    print('[Dataset] - # phone classes: ' + str(class_num) + ', number of utterances for ' + split + ': ' + str(len(usage_list)))\n",
        "\n",
        "    max_len = 3000000\n",
        "    X = torch.empty(max_len, 39 * concat_nframes)\n",
        "    if mode == 'train':\n",
        "        y = torch.empty(max_len, dtype=torch.long)\n",
        "\n",
        "    idx = 0\n",
        "    for i, fname in tqdm(enumerate(usage_list)):\n",
        "        feat = load_feat(os.path.join(feat_dir, mode, f'{fname}.pt'))\n",
        "        cur_len = len(feat)\n",
        "        feat = concat_feat(feat, concat_nframes)\n",
        "        if mode == 'train':\n",
        "          label = torch.LongTensor(label_dict[fname])\n",
        "\n",
        "        X[idx: idx + cur_len, :] = feat\n",
        "        if mode == 'train':\n",
        "          y[idx: idx + cur_len] = label\n",
        "\n",
        "        idx += cur_len\n",
        "\n",
        "    X = X[:idx, :]\n",
        "    if mode == 'train':\n",
        "      y = y[:idx]\n",
        "\n",
        "    print(f'[INFO] {split} set')\n",
        "    print(X.shape)\n",
        "    if mode == 'train':\n",
        "      print(y.shape)\n",
        "      return X, y\n",
        "    else:\n",
        "      return X\n"
      ]
    },
    {
      "cell_type": "markdown",
      "metadata": {
        "id": "us5XW_x6udZQ"
      },
      "source": [
        "# Dataset"
      ]
    },
    {
      "cell_type": "code",
      "execution_count": 3,
      "metadata": {
        "id": "Fjf5EcmJtf4e"
      },
      "outputs": [],
      "source": [
        "import torch\n",
        "from torch.utils.data import Dataset\n",
        "\n",
        "class LibriDataset(Dataset):\n",
        "    def __init__(self, X, y=None):\n",
        "        self.data = X\n",
        "        if y is not None:\n",
        "            self.label = torch.LongTensor(y)\n",
        "        else:\n",
        "            self.label = None\n",
        "\n",
        "    def __getitem__(self, idx):\n",
        "        if self.label is not None:\n",
        "            return self.data[idx], self.label[idx]\n",
        "        else:\n",
        "            return self.data[idx]\n",
        "\n",
        "    def __len__(self):\n",
        "        return len(self.data)\n"
      ]
    },
    {
      "cell_type": "markdown",
      "metadata": {
        "id": "IRqKNvNZwe3V"
      },
      "source": [
        "# Model\n",
        "Feel free to modify the structure of the model."
      ]
    },
    {
      "cell_type": "code",
      "execution_count": 4,
      "metadata": {
        "id": "Bg-GRd7ywdrL"
      },
      "outputs": [],
      "source": [
        "import torch.nn as nn\n",
        "\n",
        "class BasicBlock(nn.Module):\n",
        "    def __init__(self, input_dim, output_dim):\n",
        "        super(BasicBlock, self).__init__()\n",
        "\n",
        "        # TODO: apply batch normalization and dropout for strong baseline.\n",
        "        # Reference: https://pytorch.org/docs/stable/generated/torch.nn.BatchNorm1d.html (batch normalization)\n",
        "        #       https://pytorch.org/docs/stable/generated/torch.nn.Dropout.html (dropout)\n",
        "        self.block = nn.Sequential(\n",
        "            nn.Linear(input_dim, output_dim),\n",
        "            nn.ReLU(),\n",
        "            nn.BatchNorm1d(output_dim),\n",
        "            nn.Dropout(0.35)\n",
        "        )\n",
        "\n",
        "    def forward(self, x):\n",
        "        x = self.block(x)\n",
        "        return x\n",
        "\n",
        "\n",
        "class Classifier(nn.Module):\n",
        "    def __init__(self, input_dim, output_dim=41, hidden_layers=1, hidden_dim=256):\n",
        "        super(Classifier, self).__init__()\n",
        "\n",
        "        self.fc = nn.Sequential(\n",
        "            BasicBlock(input_dim, hidden_dim),\n",
        "            *[BasicBlock(hidden_dim, hidden_dim) for _ in range(hidden_layers)],\n",
        "            nn.Linear(hidden_dim, output_dim)\n",
        "        )\n",
        "\n",
        "    def forward(self, x):\n",
        "        x = self.fc(x)\n",
        "        return x"
      ]
    },
    {
      "cell_type": "markdown",
      "metadata": {
        "id": "TlIq8JeqvvHC"
      },
      "source": [
        "# Hyper-parameters"
      ]
    },
    {
      "cell_type": "code",
      "execution_count": 5,
      "metadata": {
        "id": "iIHn79Iav1ri"
      },
      "outputs": [],
      "source": [
        "# data prarameters\n",
        "# TODO: change the value of \"concat_nframes\" for medium baseline\n",
        "concat_nframes = 19   # the number of frames to concat with, n must be odd (total 2k+1 = n frames)\n",
        "train_ratio = 0.95   # the ratio of data used for training, the rest will be used for validation\n",
        "\n",
        "# training parameters\n",
        "seed = 0          # random seed\n",
        "batch_size = 1024        # batch size\n",
        "num_epoch = 100         # the number of training epoch\n",
        "learning_rate = 1e-4      # learning rate\n",
        "model_path = './model.ckpt'  # the path where the checkpoint will be saved\n",
        "\n",
        "# model parameters\n",
        "# TODO: change the value of \"hidden_layers\" or \"hidden_dim\" for medium baseline\n",
        "input_dim = 39 * concat_nframes  # the input dim of the model, you should not change the value\n",
        "hidden_layers = 2          # the number of hidden layers\n",
        "hidden_dim = 1024           # the hidden dim"
      ]
    },
    {
      "cell_type": "markdown",
      "metadata": {
        "id": "IIUFRgG5yoDn"
      },
      "source": [
        "# Dataloader\n",
        "\n",
        "SHAPE: (n_samples, 39 * concat_nframes)"
      ]
    },
    {
      "cell_type": "code",
      "execution_count": 6,
      "metadata": {
        "id": "c1zI3v5jyrDn"
      },
      "outputs": [
        {
          "name": "stdout",
          "output_type": "stream",
          "text": [
            "DEVICE: cuda\n",
            "[Dataset] - # phone classes: 41, number of utterances for train: 4071\n"
          ]
        },
        {
          "name": "stderr",
          "output_type": "stream",
          "text": [
            "4071it [00:19, 213.72it/s]\n"
          ]
        },
        {
          "name": "stdout",
          "output_type": "stream",
          "text": [
            "[INFO] train set\n",
            "torch.Size([2515273, 741])\n",
            "torch.Size([2515273])\n",
            "[Dataset] - # phone classes: 41, number of utterances for val: 215\n"
          ]
        },
        {
          "name": "stderr",
          "output_type": "stream",
          "text": [
            "215it [00:00, 244.19it/s]"
          ]
        },
        {
          "name": "stdout",
          "output_type": "stream",
          "text": [
            "[INFO] val set\n",
            "torch.Size([136522, 741])\n",
            "torch.Size([136522])\n"
          ]
        },
        {
          "name": "stderr",
          "output_type": "stream",
          "text": [
            "\n"
          ]
        }
      ],
      "source": [
        "from torch.utils.data import DataLoader\n",
        "import gc\n",
        "\n",
        "same_seeds(seed)\n",
        "device = 'cuda' if torch.cuda.is_available() else 'cpu'\n",
        "print(f'DEVICE: {device}')\n",
        "\n",
        "# preprocess data\n",
        "train_X, train_y = preprocess_data(split='train', feat_dir='./libriphone/feat', phone_path='./libriphone', concat_nframes=concat_nframes, train_ratio=train_ratio)\n",
        "val_X, val_y = preprocess_data(split='val', feat_dir='./libriphone/feat', phone_path='./libriphone', concat_nframes=concat_nframes, train_ratio=train_ratio)\n",
        "\n",
        "# get dataset\n",
        "train_set = LibriDataset(train_X, train_y)\n",
        "val_set = LibriDataset(val_X, val_y)\n"
      ]
    },
    {
      "cell_type": "code",
      "execution_count": 7,
      "metadata": {},
      "outputs": [],
      "source": [
        "# remove raw feature to save memory\n",
        "del train_X, train_y, val_X, val_y\n",
        "gc.collect()\n",
        "\n",
        "# get dataloader\n",
        "train_loader = DataLoader(train_set, batch_size=batch_size, shuffle=True)\n",
        "val_loader = DataLoader(val_set, batch_size=batch_size, shuffle=False)"
      ]
    },
    {
      "cell_type": "markdown",
      "metadata": {
        "id": "pwWH1KIqzxEr"
      },
      "source": [
        "# Training"
      ]
    },
    {
      "cell_type": "code",
      "execution_count": 8,
      "metadata": {
        "id": "CdMWsBs7zzNs"
      },
      "outputs": [
        {
          "name": "stderr",
          "output_type": "stream",
          "text": [
            "Epoch [1/100]: 100%|██████████| 2457/2457 [01:12<00:00, 34.02it/s, acc=0.565, loss=1.46] \n"
          ]
        },
        {
          "name": "stdout",
          "output_type": "stream",
          "text": [
            "[001/100] Train Acc: 0.56522 Loss: 1.45957 | Val Acc: 0.65988 loss: 1.10909\n",
            "saving model with acc 0.65988\n"
          ]
        },
        {
          "name": "stderr",
          "output_type": "stream",
          "text": [
            "Epoch [2/100]: 100%|██████████| 2457/2457 [01:14<00:00, 32.96it/s, acc=0.63, loss=1.2]   \n"
          ]
        },
        {
          "name": "stdout",
          "output_type": "stream",
          "text": [
            "[002/100] Train Acc: 0.62971 Loss: 1.20044 | Val Acc: 0.68868 loss: 1.00048\n",
            "saving model with acc 0.68868\n"
          ]
        },
        {
          "name": "stderr",
          "output_type": "stream",
          "text": [
            "Epoch [3/100]: 100%|██████████| 2457/2457 [01:16<00:00, 32.22it/s, acc=0.651, loss=1.12] \n"
          ]
        },
        {
          "name": "stdout",
          "output_type": "stream",
          "text": [
            "[003/100] Train Acc: 0.65105 Loss: 1.12105 | Val Acc: 0.70652 loss: 0.93550\n",
            "saving model with acc 0.70652\n"
          ]
        },
        {
          "name": "stderr",
          "output_type": "stream",
          "text": [
            "Epoch [4/100]: 100%|██████████| 2457/2457 [01:16<00:00, 32.28it/s, acc=0.665, loss=1.07] \n"
          ]
        },
        {
          "name": "stdout",
          "output_type": "stream",
          "text": [
            "[004/100] Train Acc: 0.66491 Loss: 1.07150 | Val Acc: 0.71872 loss: 0.89300\n",
            "saving model with acc 0.71872\n"
          ]
        },
        {
          "name": "stderr",
          "output_type": "stream",
          "text": [
            "Epoch [5/100]: 100%|██████████| 2457/2457 [01:14<00:00, 32.78it/s, acc=0.675, loss=1.04] \n"
          ]
        },
        {
          "name": "stdout",
          "output_type": "stream",
          "text": [
            "[005/100] Train Acc: 0.67501 Loss: 1.03544 | Val Acc: 0.72933 loss: 0.85366\n",
            "saving model with acc 0.72933\n"
          ]
        },
        {
          "name": "stderr",
          "output_type": "stream",
          "text": [
            "Epoch [6/100]: 100%|██████████| 2457/2457 [01:11<00:00, 34.37it/s, acc=0.683, loss=1.01] \n"
          ]
        },
        {
          "name": "stdout",
          "output_type": "stream",
          "text": [
            "[006/100] Train Acc: 0.68303 Loss: 1.00607 | Val Acc: 0.73738 loss: 0.82649\n",
            "saving model with acc 0.73738\n"
          ]
        },
        {
          "name": "stderr",
          "output_type": "stream",
          "text": [
            "Epoch [7/100]: 100%|██████████| 2457/2457 [01:14<00:00, 32.94it/s, acc=0.689, loss=0.983]\n"
          ]
        },
        {
          "name": "stdout",
          "output_type": "stream",
          "text": [
            "[007/100] Train Acc: 0.68966 Loss: 0.98258 | Val Acc: 0.74515 loss: 0.80056\n",
            "saving model with acc 0.74515\n"
          ]
        },
        {
          "name": "stderr",
          "output_type": "stream",
          "text": [
            "Epoch [8/100]: 100%|██████████| 2457/2457 [01:15<00:00, 32.51it/s, acc=0.695, loss=0.963]\n"
          ]
        },
        {
          "name": "stdout",
          "output_type": "stream",
          "text": [
            "[008/100] Train Acc: 0.69503 Loss: 0.96285 | Val Acc: 0.75045 loss: 0.78194\n",
            "saving model with acc 0.75045\n"
          ]
        },
        {
          "name": "stderr",
          "output_type": "stream",
          "text": [
            "Epoch [9/100]: 100%|██████████| 2457/2457 [01:13<00:00, 33.23it/s, acc=0.7, loss=0.946]  \n"
          ]
        },
        {
          "name": "stdout",
          "output_type": "stream",
          "text": [
            "[009/100] Train Acc: 0.69978 Loss: 0.94620 | Val Acc: 0.75626 loss: 0.76074\n",
            "saving model with acc 0.75626\n"
          ]
        },
        {
          "name": "stderr",
          "output_type": "stream",
          "text": [
            "Epoch [10/100]: 100%|██████████| 2457/2457 [01:11<00:00, 34.57it/s, acc=0.704, loss=0.931]\n"
          ]
        },
        {
          "name": "stdout",
          "output_type": "stream",
          "text": [
            "[010/100] Train Acc: 0.70401 Loss: 0.93136 | Val Acc: 0.76093 loss: 0.74572\n",
            "saving model with acc 0.76093\n"
          ]
        },
        {
          "name": "stderr",
          "output_type": "stream",
          "text": [
            "Epoch [11/100]: 100%|██████████| 2457/2457 [01:12<00:00, 34.10it/s, acc=0.707, loss=0.919]\n"
          ]
        },
        {
          "name": "stdout",
          "output_type": "stream",
          "text": [
            "[011/100] Train Acc: 0.70747 Loss: 0.91915 | Val Acc: 0.76592 loss: 0.73150\n",
            "saving model with acc 0.76592\n"
          ]
        },
        {
          "name": "stderr",
          "output_type": "stream",
          "text": [
            "Epoch [12/100]: 100%|██████████| 2457/2457 [01:12<00:00, 34.07it/s, acc=0.711, loss=0.908]\n"
          ]
        },
        {
          "name": "stdout",
          "output_type": "stream",
          "text": [
            "[012/100] Train Acc: 0.71086 Loss: 0.90759 | Val Acc: 0.77010 loss: 0.71758\n",
            "saving model with acc 0.77010\n"
          ]
        },
        {
          "name": "stderr",
          "output_type": "stream",
          "text": [
            "Epoch [13/100]: 100%|██████████| 2457/2457 [01:11<00:00, 34.57it/s, acc=0.713, loss=0.898]\n"
          ]
        },
        {
          "name": "stdout",
          "output_type": "stream",
          "text": [
            "[013/100] Train Acc: 0.71360 Loss: 0.89771 | Val Acc: 0.77318 loss: 0.70425\n",
            "saving model with acc 0.77318\n"
          ]
        },
        {
          "name": "stderr",
          "output_type": "stream",
          "text": [
            "Epoch [14/100]: 100%|██████████| 2457/2457 [01:09<00:00, 35.25it/s, acc=0.716, loss=0.889]\n"
          ]
        },
        {
          "name": "stdout",
          "output_type": "stream",
          "text": [
            "[014/100] Train Acc: 0.71601 Loss: 0.88864 | Val Acc: 0.77749 loss: 0.69224\n",
            "saving model with acc 0.77749\n"
          ]
        },
        {
          "name": "stderr",
          "output_type": "stream",
          "text": [
            "Epoch [15/100]: 100%|██████████| 2457/2457 [01:10<00:00, 34.97it/s, acc=0.718, loss=0.88] \n"
          ]
        },
        {
          "name": "stdout",
          "output_type": "stream",
          "text": [
            "[015/100] Train Acc: 0.71831 Loss: 0.87992 | Val Acc: 0.77902 loss: 0.68509\n",
            "saving model with acc 0.77902\n"
          ]
        },
        {
          "name": "stderr",
          "output_type": "stream",
          "text": [
            "Epoch [16/100]: 100%|██████████| 2457/2457 [01:09<00:00, 35.44it/s, acc=0.72, loss=0.873] \n"
          ]
        },
        {
          "name": "stdout",
          "output_type": "stream",
          "text": [
            "[016/100] Train Acc: 0.72017 Loss: 0.87306 | Val Acc: 0.78116 loss: 0.67659\n",
            "saving model with acc 0.78116\n"
          ]
        },
        {
          "name": "stderr",
          "output_type": "stream",
          "text": [
            "Epoch [17/100]: 100%|██████████| 2457/2457 [01:08<00:00, 35.80it/s, acc=0.722, loss=0.867]\n"
          ]
        },
        {
          "name": "stdout",
          "output_type": "stream",
          "text": [
            "[017/100] Train Acc: 0.72228 Loss: 0.86652 | Val Acc: 0.78387 loss: 0.66757\n",
            "saving model with acc 0.78387\n"
          ]
        },
        {
          "name": "stderr",
          "output_type": "stream",
          "text": [
            "Epoch [18/100]: 100%|██████████| 2457/2457 [01:09<00:00, 35.29it/s, acc=0.724, loss=0.86] \n"
          ]
        },
        {
          "name": "stdout",
          "output_type": "stream",
          "text": [
            "[018/100] Train Acc: 0.72386 Loss: 0.86020 | Val Acc: 0.78576 loss: 0.66039\n",
            "saving model with acc 0.78576\n"
          ]
        },
        {
          "name": "stderr",
          "output_type": "stream",
          "text": [
            "Epoch [19/100]: 100%|██████████| 2457/2457 [01:07<00:00, 36.23it/s, acc=0.726, loss=0.854]\n"
          ]
        },
        {
          "name": "stdout",
          "output_type": "stream",
          "text": [
            "[019/100] Train Acc: 0.72577 Loss: 0.85366 | Val Acc: 0.78969 loss: 0.65231\n",
            "saving model with acc 0.78969\n"
          ]
        },
        {
          "name": "stderr",
          "output_type": "stream",
          "text": [
            "Epoch [20/100]: 100%|██████████| 2457/2457 [01:07<00:00, 36.37it/s, acc=0.727, loss=0.848]\n"
          ]
        },
        {
          "name": "stdout",
          "output_type": "stream",
          "text": [
            "[020/100] Train Acc: 0.72738 Loss: 0.84807 | Val Acc: 0.79148 loss: 0.64464\n",
            "saving model with acc 0.79148\n"
          ]
        },
        {
          "name": "stderr",
          "output_type": "stream",
          "text": [
            "Epoch [21/100]: 100%|██████████| 2457/2457 [01:07<00:00, 36.41it/s, acc=0.728, loss=0.843]\n"
          ]
        },
        {
          "name": "stdout",
          "output_type": "stream",
          "text": [
            "[021/100] Train Acc: 0.72864 Loss: 0.84306 | Val Acc: 0.79252 loss: 0.63847\n",
            "saving model with acc 0.79252\n"
          ]
        },
        {
          "name": "stderr",
          "output_type": "stream",
          "text": [
            "Epoch [22/100]: 100%|██████████| 2457/2457 [01:09<00:00, 35.27it/s, acc=0.729, loss=0.839]\n"
          ]
        },
        {
          "name": "stdout",
          "output_type": "stream",
          "text": [
            "[022/100] Train Acc: 0.72968 Loss: 0.83878 | Val Acc: 0.79593 loss: 0.63252\n",
            "saving model with acc 0.79593\n"
          ]
        },
        {
          "name": "stderr",
          "output_type": "stream",
          "text": [
            "Epoch [23/100]: 100%|██████████| 2457/2457 [01:11<00:00, 34.35it/s, acc=0.731, loss=0.834]\n"
          ]
        },
        {
          "name": "stdout",
          "output_type": "stream",
          "text": [
            "[023/100] Train Acc: 0.73128 Loss: 0.83402 | Val Acc: 0.79805 loss: 0.62441\n",
            "saving model with acc 0.79805\n"
          ]
        },
        {
          "name": "stderr",
          "output_type": "stream",
          "text": [
            "Epoch [24/100]: 100%|██████████| 2457/2457 [01:11<00:00, 34.38it/s, acc=0.732, loss=0.829]\n"
          ]
        },
        {
          "name": "stdout",
          "output_type": "stream",
          "text": [
            "[024/100] Train Acc: 0.73242 Loss: 0.82947 | Val Acc: 0.79816 loss: 0.62088\n",
            "saving model with acc 0.79816\n"
          ]
        },
        {
          "name": "stderr",
          "output_type": "stream",
          "text": [
            "Epoch [25/100]: 100%|██████████| 2457/2457 [01:11<00:00, 34.32it/s, acc=0.733, loss=0.825]\n"
          ]
        },
        {
          "name": "stdout",
          "output_type": "stream",
          "text": [
            "[025/100] Train Acc: 0.73368 Loss: 0.82530 | Val Acc: 0.80074 loss: 0.61364\n",
            "saving model with acc 0.80074\n"
          ]
        },
        {
          "name": "stderr",
          "output_type": "stream",
          "text": [
            "Epoch [26/100]: 100%|██████████| 2457/2457 [01:11<00:00, 34.51it/s, acc=0.734, loss=0.822]\n"
          ]
        },
        {
          "name": "stdout",
          "output_type": "stream",
          "text": [
            "[026/100] Train Acc: 0.73425 Loss: 0.82228 | Val Acc: 0.80085 loss: 0.61085\n",
            "saving model with acc 0.80085\n"
          ]
        },
        {
          "name": "stderr",
          "output_type": "stream",
          "text": [
            "Epoch [27/100]: 100%|██████████| 2457/2457 [01:11<00:00, 34.55it/s, acc=0.735, loss=0.818]\n"
          ]
        },
        {
          "name": "stdout",
          "output_type": "stream",
          "text": [
            "[027/100] Train Acc: 0.73566 Loss: 0.81834 | Val Acc: 0.80356 loss: 0.60511\n",
            "saving model with acc 0.80356\n"
          ]
        },
        {
          "name": "stderr",
          "output_type": "stream",
          "text": [
            "Epoch [28/100]: 100%|██████████| 2457/2457 [01:12<00:00, 34.05it/s, acc=0.736, loss=0.816]\n"
          ]
        },
        {
          "name": "stdout",
          "output_type": "stream",
          "text": [
            "[028/100] Train Acc: 0.73667 Loss: 0.81561 | Val Acc: 0.80472 loss: 0.60062\n",
            "saving model with acc 0.80472\n"
          ]
        },
        {
          "name": "stderr",
          "output_type": "stream",
          "text": [
            "Epoch [29/100]: 100%|██████████| 2457/2457 [01:12<00:00, 33.90it/s, acc=0.737, loss=0.812]\n"
          ]
        },
        {
          "name": "stdout",
          "output_type": "stream",
          "text": [
            "[029/100] Train Acc: 0.73738 Loss: 0.81184 | Val Acc: 0.80597 loss: 0.59614\n",
            "saving model with acc 0.80597\n"
          ]
        },
        {
          "name": "stderr",
          "output_type": "stream",
          "text": [
            "Epoch [30/100]: 100%|██████████| 2457/2457 [01:10<00:00, 34.67it/s, acc=0.738, loss=0.809]\n"
          ]
        },
        {
          "name": "stdout",
          "output_type": "stream",
          "text": [
            "[030/100] Train Acc: 0.73796 Loss: 0.80942 | Val Acc: 0.80814 loss: 0.59115\n",
            "saving model with acc 0.80814\n"
          ]
        },
        {
          "name": "stderr",
          "output_type": "stream",
          "text": [
            "Epoch [31/100]: 100%|██████████| 2457/2457 [01:11<00:00, 34.29it/s, acc=0.739, loss=0.805]\n"
          ]
        },
        {
          "name": "stdout",
          "output_type": "stream",
          "text": [
            "[031/100] Train Acc: 0.73928 Loss: 0.80506 | Val Acc: 0.80959 loss: 0.58585\n",
            "saving model with acc 0.80959\n"
          ]
        },
        {
          "name": "stderr",
          "output_type": "stream",
          "text": [
            "Epoch [32/100]: 100%|██████████| 2457/2457 [01:12<00:00, 33.77it/s, acc=0.74, loss=0.803] \n"
          ]
        },
        {
          "name": "stdout",
          "output_type": "stream",
          "text": [
            "[032/100] Train Acc: 0.73973 Loss: 0.80294 | Val Acc: 0.81034 loss: 0.58211\n",
            "saving model with acc 0.81034\n"
          ]
        },
        {
          "name": "stderr",
          "output_type": "stream",
          "text": [
            "Epoch [33/100]: 100%|██████████| 2457/2457 [01:11<00:00, 34.26it/s, acc=0.74, loss=0.8]   \n"
          ]
        },
        {
          "name": "stdout",
          "output_type": "stream",
          "text": [
            "[033/100] Train Acc: 0.74045 Loss: 0.80026 | Val Acc: 0.81057 loss: 0.58083\n",
            "saving model with acc 0.81057\n"
          ]
        },
        {
          "name": "stderr",
          "output_type": "stream",
          "text": [
            "Epoch [34/100]: 100%|██████████| 2457/2457 [01:11<00:00, 34.27it/s, acc=0.741, loss=0.798]\n"
          ]
        },
        {
          "name": "stdout",
          "output_type": "stream",
          "text": [
            "[034/100] Train Acc: 0.74110 Loss: 0.79796 | Val Acc: 0.81232 loss: 0.57608\n",
            "saving model with acc 0.81232\n"
          ]
        },
        {
          "name": "stderr",
          "output_type": "stream",
          "text": [
            "Epoch [35/100]: 100%|██████████| 2457/2457 [01:10<00:00, 34.65it/s, acc=0.742, loss=0.795]\n"
          ]
        },
        {
          "name": "stdout",
          "output_type": "stream",
          "text": [
            "[035/100] Train Acc: 0.74194 Loss: 0.79549 | Val Acc: 0.81358 loss: 0.57229\n",
            "saving model with acc 0.81358\n"
          ]
        },
        {
          "name": "stderr",
          "output_type": "stream",
          "text": [
            "Epoch [36/100]: 100%|██████████| 2457/2457 [01:11<00:00, 34.56it/s, acc=0.743, loss=0.792]\n"
          ]
        },
        {
          "name": "stdout",
          "output_type": "stream",
          "text": [
            "[036/100] Train Acc: 0.74295 Loss: 0.79242 | Val Acc: 0.81289 loss: 0.57094\n"
          ]
        },
        {
          "name": "stderr",
          "output_type": "stream",
          "text": [
            "Epoch [37/100]: 100%|██████████| 2457/2457 [01:10<00:00, 34.63it/s, acc=0.743, loss=0.79] \n"
          ]
        },
        {
          "name": "stdout",
          "output_type": "stream",
          "text": [
            "[037/100] Train Acc: 0.74341 Loss: 0.79050 | Val Acc: 0.81456 loss: 0.56772\n",
            "saving model with acc 0.81456\n"
          ]
        },
        {
          "name": "stderr",
          "output_type": "stream",
          "text": [
            "Epoch [38/100]: 100%|██████████| 2457/2457 [01:08<00:00, 35.88it/s, acc=0.743, loss=0.789]\n"
          ]
        },
        {
          "name": "stdout",
          "output_type": "stream",
          "text": [
            "[038/100] Train Acc: 0.74357 Loss: 0.78894 | Val Acc: 0.81615 loss: 0.56288\n",
            "saving model with acc 0.81615\n"
          ]
        },
        {
          "name": "stderr",
          "output_type": "stream",
          "text": [
            "Epoch [39/100]: 100%|██████████| 2457/2457 [01:10<00:00, 35.02it/s, acc=0.744, loss=0.786]\n"
          ]
        },
        {
          "name": "stdout",
          "output_type": "stream",
          "text": [
            "[039/100] Train Acc: 0.74427 Loss: 0.78629 | Val Acc: 0.81747 loss: 0.56191\n",
            "saving model with acc 0.81747\n"
          ]
        },
        {
          "name": "stderr",
          "output_type": "stream",
          "text": [
            "Epoch [40/100]: 100%|██████████| 2457/2457 [01:13<00:00, 33.22it/s, acc=0.745, loss=0.785]\n"
          ]
        },
        {
          "name": "stdout",
          "output_type": "stream",
          "text": [
            "[040/100] Train Acc: 0.74497 Loss: 0.78465 | Val Acc: 0.81809 loss: 0.56021\n",
            "saving model with acc 0.81809\n"
          ]
        },
        {
          "name": "stderr",
          "output_type": "stream",
          "text": [
            "Epoch [41/100]: 100%|██████████| 2457/2457 [01:08<00:00, 36.05it/s, acc=0.745, loss=0.783]\n"
          ]
        },
        {
          "name": "stdout",
          "output_type": "stream",
          "text": [
            "[041/100] Train Acc: 0.74539 Loss: 0.78262 | Val Acc: 0.81916 loss: 0.55674\n",
            "saving model with acc 0.81916\n"
          ]
        },
        {
          "name": "stderr",
          "output_type": "stream",
          "text": [
            "Epoch [42/100]: 100%|██████████| 2457/2457 [01:07<00:00, 36.30it/s, acc=0.746, loss=0.781]\n"
          ]
        },
        {
          "name": "stdout",
          "output_type": "stream",
          "text": [
            "[042/100] Train Acc: 0.74582 Loss: 0.78086 | Val Acc: 0.82029 loss: 0.55292\n",
            "saving model with acc 0.82029\n"
          ]
        },
        {
          "name": "stderr",
          "output_type": "stream",
          "text": [
            "Epoch [43/100]: 100%|██████████| 2457/2457 [01:14<00:00, 32.80it/s, acc=0.746, loss=0.779]\n"
          ]
        },
        {
          "name": "stdout",
          "output_type": "stream",
          "text": [
            "[043/100] Train Acc: 0.74647 Loss: 0.77855 | Val Acc: 0.82010 loss: 0.55231\n"
          ]
        },
        {
          "name": "stderr",
          "output_type": "stream",
          "text": [
            "Epoch [44/100]: 100%|██████████| 2457/2457 [01:12<00:00, 33.99it/s, acc=0.747, loss=0.777]\n"
          ]
        },
        {
          "name": "stdout",
          "output_type": "stream",
          "text": [
            "[044/100] Train Acc: 0.74707 Loss: 0.77700 | Val Acc: 0.82112 loss: 0.54792\n",
            "saving model with acc 0.82112\n"
          ]
        },
        {
          "name": "stderr",
          "output_type": "stream",
          "text": [
            "Epoch [45/100]: 100%|██████████| 2457/2457 [01:13<00:00, 33.29it/s, acc=0.747, loss=0.775]\n"
          ]
        },
        {
          "name": "stdout",
          "output_type": "stream",
          "text": [
            "[045/100] Train Acc: 0.74738 Loss: 0.77547 | Val Acc: 0.82274 loss: 0.54699\n",
            "saving model with acc 0.82274\n"
          ]
        },
        {
          "name": "stderr",
          "output_type": "stream",
          "text": [
            "Epoch [46/100]: 100%|██████████| 2457/2457 [01:13<00:00, 33.48it/s, acc=0.748, loss=0.774]\n"
          ]
        },
        {
          "name": "stdout",
          "output_type": "stream",
          "text": [
            "[046/100] Train Acc: 0.74793 Loss: 0.77399 | Val Acc: 0.82250 loss: 0.54379\n"
          ]
        },
        {
          "name": "stderr",
          "output_type": "stream",
          "text": [
            "Epoch [47/100]: 100%|██████████| 2457/2457 [01:13<00:00, 33.24it/s, acc=0.748, loss=0.772]\n"
          ]
        },
        {
          "name": "stdout",
          "output_type": "stream",
          "text": [
            "[047/100] Train Acc: 0.74862 Loss: 0.77203 | Val Acc: 0.82393 loss: 0.54107\n",
            "saving model with acc 0.82393\n"
          ]
        },
        {
          "name": "stderr",
          "output_type": "stream",
          "text": [
            "Epoch [48/100]: 100%|██████████| 2457/2457 [01:13<00:00, 33.23it/s, acc=0.749, loss=0.77] \n"
          ]
        },
        {
          "name": "stdout",
          "output_type": "stream",
          "text": [
            "[048/100] Train Acc: 0.74905 Loss: 0.76974 | Val Acc: 0.82445 loss: 0.53992\n",
            "saving model with acc 0.82445\n"
          ]
        },
        {
          "name": "stderr",
          "output_type": "stream",
          "text": [
            "Epoch [49/100]: 100%|██████████| 2457/2457 [01:13<00:00, 33.30it/s, acc=0.749, loss=0.768]\n"
          ]
        },
        {
          "name": "stdout",
          "output_type": "stream",
          "text": [
            "[049/100] Train Acc: 0.74949 Loss: 0.76843 | Val Acc: 0.82541 loss: 0.53723\n",
            "saving model with acc 0.82541\n"
          ]
        },
        {
          "name": "stderr",
          "output_type": "stream",
          "text": [
            "Epoch [50/100]: 100%|██████████| 2457/2457 [01:12<00:00, 33.69it/s, acc=0.75, loss=0.767] \n"
          ]
        },
        {
          "name": "stdout",
          "output_type": "stream",
          "text": [
            "[050/100] Train Acc: 0.74988 Loss: 0.76724 | Val Acc: 0.82631 loss: 0.53526\n",
            "saving model with acc 0.82631\n"
          ]
        },
        {
          "name": "stderr",
          "output_type": "stream",
          "text": [
            "Epoch [51/100]: 100%|██████████| 2457/2457 [01:13<00:00, 33.61it/s, acc=0.75, loss=0.766] \n"
          ]
        },
        {
          "name": "stdout",
          "output_type": "stream",
          "text": [
            "[051/100] Train Acc: 0.75001 Loss: 0.76588 | Val Acc: 0.82635 loss: 0.53373\n",
            "saving model with acc 0.82635\n"
          ]
        },
        {
          "name": "stderr",
          "output_type": "stream",
          "text": [
            "Epoch [52/100]: 100%|██████████| 2457/2457 [01:14<00:00, 33.14it/s, acc=0.75, loss=0.765] \n"
          ]
        },
        {
          "name": "stdout",
          "output_type": "stream",
          "text": [
            "[052/100] Train Acc: 0.75020 Loss: 0.76521 | Val Acc: 0.82679 loss: 0.53250\n",
            "saving model with acc 0.82679\n"
          ]
        },
        {
          "name": "stderr",
          "output_type": "stream",
          "text": [
            "Epoch [53/100]: 100%|██████████| 2457/2457 [01:13<00:00, 33.51it/s, acc=0.751, loss=0.763]\n"
          ]
        },
        {
          "name": "stdout",
          "output_type": "stream",
          "text": [
            "[053/100] Train Acc: 0.75098 Loss: 0.76338 | Val Acc: 0.82702 loss: 0.53044\n",
            "saving model with acc 0.82702\n"
          ]
        },
        {
          "name": "stderr",
          "output_type": "stream",
          "text": [
            "Epoch [54/100]: 100%|██████████| 2457/2457 [01:14<00:00, 33.19it/s, acc=0.751, loss=0.761]\n"
          ]
        },
        {
          "name": "stdout",
          "output_type": "stream",
          "text": [
            "[054/100] Train Acc: 0.75110 Loss: 0.76117 | Val Acc: 0.82784 loss: 0.52803\n",
            "saving model with acc 0.82784\n"
          ]
        },
        {
          "name": "stderr",
          "output_type": "stream",
          "text": [
            "Epoch [55/100]: 100%|██████████| 2457/2457 [01:12<00:00, 33.74it/s, acc=0.751, loss=0.761]\n"
          ]
        },
        {
          "name": "stdout",
          "output_type": "stream",
          "text": [
            "[055/100] Train Acc: 0.75134 Loss: 0.76070 | Val Acc: 0.82870 loss: 0.52771\n",
            "saving model with acc 0.82870\n"
          ]
        },
        {
          "name": "stderr",
          "output_type": "stream",
          "text": [
            "Epoch [56/100]: 100%|██████████| 2457/2457 [01:12<00:00, 33.66it/s, acc=0.752, loss=0.76] \n"
          ]
        },
        {
          "name": "stdout",
          "output_type": "stream",
          "text": [
            "[056/100] Train Acc: 0.75198 Loss: 0.75969 | Val Acc: 0.82998 loss: 0.52422\n",
            "saving model with acc 0.82998\n"
          ]
        },
        {
          "name": "stderr",
          "output_type": "stream",
          "text": [
            "Epoch [57/100]: 100%|██████████| 2457/2457 [01:13<00:00, 33.30it/s, acc=0.752, loss=0.758]\n"
          ]
        },
        {
          "name": "stdout",
          "output_type": "stream",
          "text": [
            "[057/100] Train Acc: 0.75216 Loss: 0.75788 | Val Acc: 0.83017 loss: 0.52193\n",
            "saving model with acc 0.83017\n"
          ]
        },
        {
          "name": "stderr",
          "output_type": "stream",
          "text": [
            "Epoch [58/100]: 100%|██████████| 2457/2457 [01:12<00:00, 34.09it/s, acc=0.752, loss=0.757]\n"
          ]
        },
        {
          "name": "stdout",
          "output_type": "stream",
          "text": [
            "[058/100] Train Acc: 0.75258 Loss: 0.75676 | Val Acc: 0.83023 loss: 0.52054\n",
            "saving model with acc 0.83023\n"
          ]
        },
        {
          "name": "stderr",
          "output_type": "stream",
          "text": [
            "Epoch [59/100]: 100%|██████████| 2457/2457 [01:13<00:00, 33.46it/s, acc=0.753, loss=0.755]\n"
          ]
        },
        {
          "name": "stdout",
          "output_type": "stream",
          "text": [
            "[059/100] Train Acc: 0.75335 Loss: 0.75538 | Val Acc: 0.83088 loss: 0.51935\n",
            "saving model with acc 0.83088\n"
          ]
        },
        {
          "name": "stderr",
          "output_type": "stream",
          "text": [
            "Epoch [60/100]: 100%|██████████| 2457/2457 [01:14<00:00, 32.97it/s, acc=0.753, loss=0.754]\n"
          ]
        },
        {
          "name": "stdout",
          "output_type": "stream",
          "text": [
            "[060/100] Train Acc: 0.75337 Loss: 0.75396 | Val Acc: 0.83094 loss: 0.51899\n",
            "saving model with acc 0.83094\n"
          ]
        },
        {
          "name": "stderr",
          "output_type": "stream",
          "text": [
            "Epoch [61/100]: 100%|██████████| 2457/2457 [01:15<00:00, 32.61it/s, acc=0.753, loss=0.754]\n"
          ]
        },
        {
          "name": "stdout",
          "output_type": "stream",
          "text": [
            "[061/100] Train Acc: 0.75321 Loss: 0.75374 | Val Acc: 0.83109 loss: 0.51857\n",
            "saving model with acc 0.83109\n"
          ]
        },
        {
          "name": "stderr",
          "output_type": "stream",
          "text": [
            "Epoch [62/100]: 100%|██████████| 2457/2457 [01:14<00:00, 33.12it/s, acc=0.753, loss=0.753]\n"
          ]
        },
        {
          "name": "stdout",
          "output_type": "stream",
          "text": [
            "[062/100] Train Acc: 0.75348 Loss: 0.75311 | Val Acc: 0.83210 loss: 0.51564\n",
            "saving model with acc 0.83210\n"
          ]
        },
        {
          "name": "stderr",
          "output_type": "stream",
          "text": [
            "Epoch [63/100]: 100%|██████████| 2457/2457 [01:13<00:00, 33.41it/s, acc=0.754, loss=0.751]\n"
          ]
        },
        {
          "name": "stdout",
          "output_type": "stream",
          "text": [
            "[063/100] Train Acc: 0.75419 Loss: 0.75074 | Val Acc: 0.83339 loss: 0.51318\n",
            "saving model with acc 0.83339\n"
          ]
        },
        {
          "name": "stderr",
          "output_type": "stream",
          "text": [
            "Epoch [64/100]: 100%|██████████| 2457/2457 [01:14<00:00, 32.99it/s, acc=0.754, loss=0.75] \n"
          ]
        },
        {
          "name": "stdout",
          "output_type": "stream",
          "text": [
            "[064/100] Train Acc: 0.75434 Loss: 0.75007 | Val Acc: 0.83280 loss: 0.51275\n"
          ]
        },
        {
          "name": "stderr",
          "output_type": "stream",
          "text": [
            "Epoch [65/100]: 100%|██████████| 2457/2457 [01:12<00:00, 33.87it/s, acc=0.755, loss=0.75] \n"
          ]
        },
        {
          "name": "stdout",
          "output_type": "stream",
          "text": [
            "[065/100] Train Acc: 0.75474 Loss: 0.74960 | Val Acc: 0.83480 loss: 0.51000\n",
            "saving model with acc 0.83480\n"
          ]
        },
        {
          "name": "stderr",
          "output_type": "stream",
          "text": [
            "Epoch [66/100]: 100%|██████████| 2457/2457 [01:10<00:00, 34.68it/s, acc=0.755, loss=0.749]\n"
          ]
        },
        {
          "name": "stdout",
          "output_type": "stream",
          "text": [
            "[066/100] Train Acc: 0.75500 Loss: 0.74852 | Val Acc: 0.83589 loss: 0.50769\n",
            "saving model with acc 0.83589\n"
          ]
        },
        {
          "name": "stderr",
          "output_type": "stream",
          "text": [
            "Epoch [67/100]: 100%|██████████| 2457/2457 [01:10<00:00, 34.77it/s, acc=0.755, loss=0.747]\n"
          ]
        },
        {
          "name": "stdout",
          "output_type": "stream",
          "text": [
            "[067/100] Train Acc: 0.75558 Loss: 0.74730 | Val Acc: 0.83448 loss: 0.50666\n"
          ]
        },
        {
          "name": "stderr",
          "output_type": "stream",
          "text": [
            "Epoch [68/100]: 100%|██████████| 2457/2457 [01:13<00:00, 33.25it/s, acc=0.755, loss=0.747]\n"
          ]
        },
        {
          "name": "stdout",
          "output_type": "stream",
          "text": [
            "[068/100] Train Acc: 0.75507 Loss: 0.74695 | Val Acc: 0.83550 loss: 0.50648\n"
          ]
        },
        {
          "name": "stderr",
          "output_type": "stream",
          "text": [
            "Epoch [69/100]: 100%|██████████| 2457/2457 [01:14<00:00, 32.95it/s, acc=0.755, loss=0.746]\n"
          ]
        },
        {
          "name": "stdout",
          "output_type": "stream",
          "text": [
            "[069/100] Train Acc: 0.75542 Loss: 0.74556 | Val Acc: 0.83609 loss: 0.50349\n",
            "saving model with acc 0.83609\n"
          ]
        },
        {
          "name": "stderr",
          "output_type": "stream",
          "text": [
            "Epoch [70/100]: 100%|██████████| 2457/2457 [01:14<00:00, 32.81it/s, acc=0.756, loss=0.745]\n"
          ]
        },
        {
          "name": "stdout",
          "output_type": "stream",
          "text": [
            "[070/100] Train Acc: 0.75579 Loss: 0.74497 | Val Acc: 0.83537 loss: 0.50425\n"
          ]
        },
        {
          "name": "stderr",
          "output_type": "stream",
          "text": [
            "Epoch [71/100]: 100%|██████████| 2457/2457 [01:11<00:00, 34.39it/s, acc=0.756, loss=0.744]\n"
          ]
        },
        {
          "name": "stdout",
          "output_type": "stream",
          "text": [
            "[071/100] Train Acc: 0.75629 Loss: 0.74377 | Val Acc: 0.83718 loss: 0.50272\n",
            "saving model with acc 0.83718\n"
          ]
        },
        {
          "name": "stderr",
          "output_type": "stream",
          "text": [
            "Epoch [72/100]: 100%|██████████| 2457/2457 [01:12<00:00, 33.90it/s, acc=0.756, loss=0.742]\n"
          ]
        },
        {
          "name": "stdout",
          "output_type": "stream",
          "text": [
            "[072/100] Train Acc: 0.75667 Loss: 0.74237 | Val Acc: 0.83840 loss: 0.50107\n",
            "saving model with acc 0.83840\n"
          ]
        },
        {
          "name": "stderr",
          "output_type": "stream",
          "text": [
            "Epoch [73/100]: 100%|██████████| 2457/2457 [01:15<00:00, 32.47it/s, acc=0.757, loss=0.742]\n"
          ]
        },
        {
          "name": "stdout",
          "output_type": "stream",
          "text": [
            "[073/100] Train Acc: 0.75691 Loss: 0.74172 | Val Acc: 0.83737 loss: 0.50042\n"
          ]
        },
        {
          "name": "stderr",
          "output_type": "stream",
          "text": [
            "Epoch [74/100]: 100%|██████████| 2457/2457 [01:18<00:00, 31.44it/s, acc=0.756, loss=0.741]\n"
          ]
        },
        {
          "name": "stdout",
          "output_type": "stream",
          "text": [
            "[074/100] Train Acc: 0.75652 Loss: 0.74139 | Val Acc: 0.83713 loss: 0.50017\n"
          ]
        },
        {
          "name": "stderr",
          "output_type": "stream",
          "text": [
            "Epoch [75/100]: 100%|██████████| 2457/2457 [01:12<00:00, 34.08it/s, acc=0.757, loss=0.741]\n"
          ]
        },
        {
          "name": "stdout",
          "output_type": "stream",
          "text": [
            "[075/100] Train Acc: 0.75685 Loss: 0.74051 | Val Acc: 0.83751 loss: 0.49769\n"
          ]
        },
        {
          "name": "stderr",
          "output_type": "stream",
          "text": [
            "Epoch [76/100]: 100%|██████████| 2457/2457 [01:18<00:00, 31.50it/s, acc=0.757, loss=0.74] \n"
          ]
        },
        {
          "name": "stdout",
          "output_type": "stream",
          "text": [
            "[076/100] Train Acc: 0.75710 Loss: 0.74036 | Val Acc: 0.83841 loss: 0.49687\n",
            "saving model with acc 0.83841\n"
          ]
        },
        {
          "name": "stderr",
          "output_type": "stream",
          "text": [
            "Epoch [77/100]: 100%|██████████| 2457/2457 [01:17<00:00, 31.76it/s, acc=0.758, loss=0.738]\n"
          ]
        },
        {
          "name": "stdout",
          "output_type": "stream",
          "text": [
            "[077/100] Train Acc: 0.75783 Loss: 0.73813 | Val Acc: 0.83821 loss: 0.49575\n"
          ]
        },
        {
          "name": "stderr",
          "output_type": "stream",
          "text": [
            "Epoch [78/100]: 100%|██████████| 2457/2457 [01:17<00:00, 31.68it/s, acc=0.758, loss=0.738]\n"
          ]
        },
        {
          "name": "stdout",
          "output_type": "stream",
          "text": [
            "[078/100] Train Acc: 0.75776 Loss: 0.73805 | Val Acc: 0.83912 loss: 0.49503\n",
            "saving model with acc 0.83912\n"
          ]
        },
        {
          "name": "stderr",
          "output_type": "stream",
          "text": [
            "Epoch [79/100]: 100%|██████████| 2457/2457 [01:17<00:00, 31.58it/s, acc=0.758, loss=0.737]\n"
          ]
        },
        {
          "name": "stdout",
          "output_type": "stream",
          "text": [
            "[079/100] Train Acc: 0.75787 Loss: 0.73726 | Val Acc: 0.83929 loss: 0.49421\n",
            "saving model with acc 0.83929\n"
          ]
        },
        {
          "name": "stderr",
          "output_type": "stream",
          "text": [
            "Epoch [80/100]: 100%|██████████| 2457/2457 [01:17<00:00, 31.90it/s, acc=0.758, loss=0.736]\n"
          ]
        },
        {
          "name": "stdout",
          "output_type": "stream",
          "text": [
            "[080/100] Train Acc: 0.75862 Loss: 0.73583 | Val Acc: 0.84083 loss: 0.49261\n",
            "saving model with acc 0.84083\n"
          ]
        },
        {
          "name": "stderr",
          "output_type": "stream",
          "text": [
            "Epoch [81/100]: 100%|██████████| 2457/2457 [01:16<00:00, 32.06it/s, acc=0.759, loss=0.735]\n"
          ]
        },
        {
          "name": "stdout",
          "output_type": "stream",
          "text": [
            "[081/100] Train Acc: 0.75873 Loss: 0.73500 | Val Acc: 0.84005 loss: 0.49216\n"
          ]
        },
        {
          "name": "stderr",
          "output_type": "stream",
          "text": [
            "Epoch [82/100]: 100%|██████████| 2457/2457 [01:15<00:00, 32.45it/s, acc=0.758, loss=0.735]\n"
          ]
        },
        {
          "name": "stdout",
          "output_type": "stream",
          "text": [
            "[082/100] Train Acc: 0.75843 Loss: 0.73460 | Val Acc: 0.84038 loss: 0.49135\n"
          ]
        },
        {
          "name": "stderr",
          "output_type": "stream",
          "text": [
            "Epoch [83/100]: 100%|██████████| 2457/2457 [01:14<00:00, 33.20it/s, acc=0.759, loss=0.734]\n"
          ]
        },
        {
          "name": "stdout",
          "output_type": "stream",
          "text": [
            "[083/100] Train Acc: 0.75884 Loss: 0.73388 | Val Acc: 0.84112 loss: 0.48944\n",
            "saving model with acc 0.84112\n"
          ]
        },
        {
          "name": "stderr",
          "output_type": "stream",
          "text": [
            "Epoch [84/100]: 100%|██████████| 2457/2457 [01:15<00:00, 32.52it/s, acc=0.759, loss=0.733]\n"
          ]
        },
        {
          "name": "stdout",
          "output_type": "stream",
          "text": [
            "[084/100] Train Acc: 0.75931 Loss: 0.73280 | Val Acc: 0.84173 loss: 0.48873\n",
            "saving model with acc 0.84173\n"
          ]
        },
        {
          "name": "stderr",
          "output_type": "stream",
          "text": [
            "Epoch [85/100]: 100%|██████████| 2457/2457 [01:14<00:00, 32.87it/s, acc=0.759, loss=0.733]\n"
          ]
        },
        {
          "name": "stdout",
          "output_type": "stream",
          "text": [
            "[085/100] Train Acc: 0.75945 Loss: 0.73272 | Val Acc: 0.84164 loss: 0.48697\n"
          ]
        },
        {
          "name": "stderr",
          "output_type": "stream",
          "text": [
            "Epoch [86/100]: 100%|██████████| 2457/2457 [01:16<00:00, 32.11it/s, acc=0.759, loss=0.732]\n"
          ]
        },
        {
          "name": "stdout",
          "output_type": "stream",
          "text": [
            "[086/100] Train Acc: 0.75939 Loss: 0.73151 | Val Acc: 0.84214 loss: 0.48671\n",
            "saving model with acc 0.84214\n"
          ]
        },
        {
          "name": "stderr",
          "output_type": "stream",
          "text": [
            "Epoch [87/100]: 100%|██████████| 2457/2457 [01:16<00:00, 32.30it/s, acc=0.76, loss=0.73]  \n"
          ]
        },
        {
          "name": "stdout",
          "output_type": "stream",
          "text": [
            "[087/100] Train Acc: 0.76010 Loss: 0.73042 | Val Acc: 0.84223 loss: 0.48502\n",
            "saving model with acc 0.84223\n"
          ]
        },
        {
          "name": "stderr",
          "output_type": "stream",
          "text": [
            "Epoch [88/100]: 100%|██████████| 2457/2457 [01:15<00:00, 32.49it/s, acc=0.76, loss=0.73]  \n"
          ]
        },
        {
          "name": "stdout",
          "output_type": "stream",
          "text": [
            "[088/100] Train Acc: 0.76001 Loss: 0.73031 | Val Acc: 0.84254 loss: 0.48343\n",
            "saving model with acc 0.84254\n"
          ]
        },
        {
          "name": "stderr",
          "output_type": "stream",
          "text": [
            "Epoch [89/100]: 100%|██████████| 2457/2457 [01:16<00:00, 32.09it/s, acc=0.76, loss=0.729] \n"
          ]
        },
        {
          "name": "stdout",
          "output_type": "stream",
          "text": [
            "[089/100] Train Acc: 0.76027 Loss: 0.72944 | Val Acc: 0.84291 loss: 0.48532\n",
            "saving model with acc 0.84291\n"
          ]
        },
        {
          "name": "stderr",
          "output_type": "stream",
          "text": [
            "Epoch [90/100]: 100%|██████████| 2457/2457 [01:15<00:00, 32.56it/s, acc=0.76, loss=0.729] \n"
          ]
        },
        {
          "name": "stdout",
          "output_type": "stream",
          "text": [
            "[090/100] Train Acc: 0.76052 Loss: 0.72904 | Val Acc: 0.84352 loss: 0.48246\n",
            "saving model with acc 0.84352\n"
          ]
        },
        {
          "name": "stderr",
          "output_type": "stream",
          "text": [
            "Epoch [91/100]: 100%|██████████| 2457/2457 [01:15<00:00, 32.68it/s, acc=0.76, loss=0.728] \n"
          ]
        },
        {
          "name": "stdout",
          "output_type": "stream",
          "text": [
            "[091/100] Train Acc: 0.76056 Loss: 0.72839 | Val Acc: 0.84328 loss: 0.48221\n"
          ]
        },
        {
          "name": "stderr",
          "output_type": "stream",
          "text": [
            "Epoch [92/100]: 100%|██████████| 2457/2457 [01:16<00:00, 31.98it/s, acc=0.761, loss=0.728]\n"
          ]
        },
        {
          "name": "stdout",
          "output_type": "stream",
          "text": [
            "[092/100] Train Acc: 0.76083 Loss: 0.72766 | Val Acc: 0.84333 loss: 0.48104\n"
          ]
        },
        {
          "name": "stderr",
          "output_type": "stream",
          "text": [
            "Epoch [93/100]: 100%|██████████| 2457/2457 [01:16<00:00, 32.32it/s, acc=0.761, loss=0.727]\n"
          ]
        },
        {
          "name": "stdout",
          "output_type": "stream",
          "text": [
            "[093/100] Train Acc: 0.76104 Loss: 0.72673 | Val Acc: 0.84308 loss: 0.48215\n"
          ]
        },
        {
          "name": "stderr",
          "output_type": "stream",
          "text": [
            "Epoch [94/100]: 100%|██████████| 2457/2457 [01:15<00:00, 32.40it/s, acc=0.761, loss=0.726]\n"
          ]
        },
        {
          "name": "stdout",
          "output_type": "stream",
          "text": [
            "[094/100] Train Acc: 0.76116 Loss: 0.72603 | Val Acc: 0.84434 loss: 0.48010\n",
            "saving model with acc 0.84434\n"
          ]
        },
        {
          "name": "stderr",
          "output_type": "stream",
          "text": [
            "Epoch [95/100]: 100%|██████████| 2457/2457 [01:15<00:00, 32.72it/s, acc=0.761, loss=0.726]\n"
          ]
        },
        {
          "name": "stdout",
          "output_type": "stream",
          "text": [
            "[095/100] Train Acc: 0.76140 Loss: 0.72554 | Val Acc: 0.84446 loss: 0.47820\n",
            "saving model with acc 0.84446\n"
          ]
        },
        {
          "name": "stderr",
          "output_type": "stream",
          "text": [
            "Epoch [96/100]: 100%|██████████| 2457/2457 [01:14<00:00, 32.89it/s, acc=0.761, loss=0.726]\n"
          ]
        },
        {
          "name": "stdout",
          "output_type": "stream",
          "text": [
            "[096/100] Train Acc: 0.76122 Loss: 0.72552 | Val Acc: 0.84498 loss: 0.47737\n",
            "saving model with acc 0.84498\n"
          ]
        },
        {
          "name": "stderr",
          "output_type": "stream",
          "text": [
            "Epoch [97/100]: 100%|██████████| 2457/2457 [01:12<00:00, 33.76it/s, acc=0.761, loss=0.724]\n"
          ]
        },
        {
          "name": "stdout",
          "output_type": "stream",
          "text": [
            "[097/100] Train Acc: 0.76165 Loss: 0.72443 | Val Acc: 0.84419 loss: 0.47823\n"
          ]
        },
        {
          "name": "stderr",
          "output_type": "stream",
          "text": [
            "Epoch [98/100]: 100%|██████████| 2457/2457 [01:13<00:00, 33.51it/s, acc=0.762, loss=0.724]\n"
          ]
        },
        {
          "name": "stdout",
          "output_type": "stream",
          "text": [
            "[098/100] Train Acc: 0.76190 Loss: 0.72377 | Val Acc: 0.84433 loss: 0.47811\n"
          ]
        },
        {
          "name": "stderr",
          "output_type": "stream",
          "text": [
            "Epoch [99/100]: 100%|██████████| 2457/2457 [01:13<00:00, 33.29it/s, acc=0.761, loss=0.724]\n"
          ]
        },
        {
          "name": "stdout",
          "output_type": "stream",
          "text": [
            "[099/100] Train Acc: 0.76151 Loss: 0.72397 | Val Acc: 0.84548 loss: 0.47604\n",
            "saving model with acc 0.84548\n"
          ]
        },
        {
          "name": "stderr",
          "output_type": "stream",
          "text": [
            "Epoch [100/100]: 100%|██████████| 2457/2457 [01:12<00:00, 33.69it/s, acc=0.762, loss=0.722]\n"
          ]
        },
        {
          "name": "stdout",
          "output_type": "stream",
          "text": [
            "[100/100] Train Acc: 0.76213 Loss: 0.72218 | Val Acc: 0.84554 loss: 0.47411\n",
            "saving model with acc 0.84554\n"
          ]
        }
      ],
      "source": [
        "# create model, define a loss function, and optimizer\n",
        "model = Classifier(input_dim=input_dim, hidden_layers=hidden_layers, hidden_dim=hidden_dim).to(device)\n",
        "criterion = nn.CrossEntropyLoss() \n",
        "optimizer = torch.optim.AdamW(model.parameters(), lr=learning_rate,)\n",
        "scheduler = torch.optim.lr_scheduler.CosineAnnealingWarmRestarts(optimizer,T_0=8,T_mult=2,eta_min = learning_rate/2)\n",
        "writer = SummaryWriter() # Writer of tensoboard.\n",
        "\n",
        "best_acc = 0.0\n",
        "for epoch in range(num_epoch):\n",
        "    train_acc = 0.0\n",
        "    train_loss = 0.0\n",
        "    val_acc = 0.0\n",
        "    val_loss = 0.0\n",
        "    \n",
        "    # tqdm is a package to visualize your training progress.\n",
        "    train_pbar = tqdm(train_loader, position=0, leave=True)\n",
        "    \n",
        "    # training\n",
        "    model.train() # set the model to training mode\n",
        "    loss_record = []\n",
        "    step = 0\n",
        "    for batch in train_pbar:\n",
        "        features, labels = batch\n",
        "        features = features.to(device)\n",
        "        labels = labels.to(device)\n",
        "        \n",
        "        optimizer.zero_grad() \n",
        "        outputs = model(features) \n",
        "        \n",
        "        loss = criterion(outputs, labels)\n",
        "        loss.backward() \n",
        "        optimizer.step()\n",
        "        \n",
        "        step += 1\n",
        "        _, train_pred = torch.max(outputs, 1) # get the index of the class with the highest probability\n",
        "        train_acc += (train_pred.detach() == labels.detach()).sum().item()\n",
        "        train_loss += loss.item()\n",
        "        \n",
        "        loss_record.append(loss.item())\n",
        "\n",
        "        # Display current epoch number and loss on tqdm progress bar.\n",
        "        train_pbar.set_description(f'Epoch [{epoch+1}/{num_epoch}]')\n",
        "        train_pbar.set_postfix({'acc': train_acc/(step*batch_size), 'loss': train_loss/len(train_loader)})\n",
        "    \n",
        "    writer.add_scalar('Loss/train', np.mean(loss_record), epoch)\n",
        "    writer.add_scalar('Accuracy/train', train_acc/len(train_set), epoch)\n",
        "    \n",
        "    # validation\n",
        "    model.eval() # set the model to evaluation mode\n",
        "    loss_record = []\n",
        "    with torch.no_grad():\n",
        "        for batch in val_loader:\n",
        "            features, labels = batch\n",
        "            features = features.to(device)\n",
        "            labels = labels.to(device)\n",
        "            outputs = model(features)\n",
        "            \n",
        "            loss = criterion(outputs, labels) \n",
        "            \n",
        "            _, val_pred = torch.max(outputs, 1) \n",
        "            val_acc += (val_pred.cpu() == labels.cpu()).sum().item() # get the index of the class with the highest probability\n",
        "            val_loss += loss.item()\n",
        "\n",
        "            loss_record.append(loss.item())\n",
        "            \n",
        "    writer.add_scalar('Loss/val', np.mean(loss_record), epoch)\n",
        "    writer.add_scalar('Accuracy/val', val_acc/len(val_set), epoch)\n",
        "    print(f'[{epoch+1:03d}/{num_epoch:03d}] Train Acc: {train_acc/len(train_set):3.5f} Loss: {train_loss/len(train_loader):3.5f} | Val Acc: {val_acc/len(val_set):3.5f} loss: {val_loss/len(val_loader):3.5f}')\n",
        "\n",
        "    # if the model improves, save a checkpoint at this epoch\n",
        "    if val_acc > best_acc:\n",
        "        best_acc = val_acc\n",
        "        torch.save(model.state_dict(), model_path)\n",
        "        print(f'saving model with acc {best_acc/len(val_set):.5f}')\n"
      ]
    },
    {
      "cell_type": "code",
      "execution_count": 13,
      "metadata": {
        "id": "ab33MxosWLmG"
      },
      "outputs": [
        {
          "data": {
            "text/plain": [
              "0"
            ]
          },
          "execution_count": 13,
          "metadata": {},
          "output_type": "execute_result"
        }
      ],
      "source": [
        "del train_set, val_set\n",
        "del train_loader, val_loader\n",
        "gc.collect()"
      ]
    },
    {
      "cell_type": "markdown",
      "metadata": {
        "id": "1Hi7jTn3PX-m"
      },
      "source": [
        "# Testing\n",
        "Create a testing dataset, and load model from the saved checkpoint."
      ]
    },
    {
      "cell_type": "code",
      "execution_count": 14,
      "metadata": {
        "id": "VOG1Ou0PGrhc"
      },
      "outputs": [
        {
          "name": "stdout",
          "output_type": "stream",
          "text": [
            "[Dataset] - # phone classes: 41, number of utterances for test: 1078\n"
          ]
        },
        {
          "name": "stderr",
          "output_type": "stream",
          "text": [
            "1078it [00:01, 578.57it/s]"
          ]
        },
        {
          "name": "stdout",
          "output_type": "stream",
          "text": [
            "[INFO] test set\n",
            "torch.Size([646268, 117])\n"
          ]
        },
        {
          "name": "stderr",
          "output_type": "stream",
          "text": [
            "\n"
          ]
        }
      ],
      "source": [
        "# load data\n",
        "test_X = preprocess_data(split='test', feat_dir='./libriphone/feat', phone_path='./libriphone', concat_nframes=concat_nframes)\n",
        "test_set = LibriDataset(test_X, None)\n",
        "test_loader = DataLoader(test_set, batch_size=batch_size, shuffle=False)"
      ]
    },
    {
      "cell_type": "code",
      "execution_count": 15,
      "metadata": {
        "id": "ay0Fu8Ovkdad"
      },
      "outputs": [
        {
          "data": {
            "text/plain": [
              "<All keys matched successfully>"
            ]
          },
          "execution_count": 15,
          "metadata": {},
          "output_type": "execute_result"
        }
      ],
      "source": [
        "# load model\n",
        "model = Classifier(input_dim=input_dim, hidden_layers=hidden_layers, hidden_dim=hidden_dim).to(device)\n",
        "model.load_state_dict(torch.load(model_path))"
      ]
    },
    {
      "cell_type": "markdown",
      "metadata": {
        "id": "zp-DV1p4r7Nz"
      },
      "source": [
        "Make prediction."
      ]
    },
    {
      "cell_type": "code",
      "execution_count": 16,
      "metadata": {
        "id": "84HU5GGjPqR0"
      },
      "outputs": [
        {
          "name": "stderr",
          "output_type": "stream",
          "text": [
            "100%|██████████| 1263/1263 [00:06<00:00, 184.75it/s]\n"
          ]
        }
      ],
      "source": [
        "pred = np.array([], dtype=np.int32)\n",
        "\n",
        "model.eval()\n",
        "with torch.no_grad():\n",
        "    for i, batch in enumerate(tqdm(test_loader)):\n",
        "        features = batch\n",
        "        features = features.to(device)\n",
        "\n",
        "        outputs = model(features)\n",
        "\n",
        "        _, test_pred = torch.max(outputs, 1) # get the index of the class with the highest probability\n",
        "        pred = np.concatenate((pred, test_pred.cpu().numpy()), axis=0)\n"
      ]
    },
    {
      "cell_type": "markdown",
      "metadata": {
        "id": "wyZqy40Prz0v"
      },
      "source": [
        "Write prediction to a CSV file.\n",
        "\n",
        "After finish running this block, download the file `prediction.csv` from the files section on the left-hand side and submit it to Kaggle."
      ]
    },
    {
      "cell_type": "code",
      "execution_count": 17,
      "metadata": {
        "id": "GuljYSPHcZir"
      },
      "outputs": [],
      "source": [
        "with open('prediction.csv', 'w') as f:\n",
        "    f.write('Id,Class\\n')\n",
        "    for i, y in enumerate(pred):\n",
        "        f.write('{},{}\\n'.format(i, y))"
      ]
    }
  ],
  "metadata": {
    "accelerator": "GPU",
    "colab": {
      "provenance": []
    },
    "kernelspec": {
      "display_name": "Python 3",
      "name": "python3"
    },
    "language_info": {
      "codemirror_mode": {
        "name": "ipython",
        "version": 3
      },
      "file_extension": ".py",
      "mimetype": "text/x-python",
      "name": "python",
      "nbconvert_exporter": "python",
      "pygments_lexer": "ipython3",
      "version": "3.9.12"
    }
  },
  "nbformat": 4,
  "nbformat_minor": 0
}
