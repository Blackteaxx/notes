{
 "cells": [
  {
   "cell_type": "code",
   "execution_count": 2,
   "metadata": {},
   "outputs": [
    {
     "name": "stdout",
     "output_type": "stream",
     "text": [
      "Active code page: 65001\n",
      "Collecting git+https://github.com/openai/CLIP.git\n",
      "  Cloning https://github.com/openai/CLIP.git to c:\\users\\86139\\appdata\\local\\temp\\pip-req-build-ppcheiw5\n",
      "  Resolved https://github.com/openai/CLIP.git to commit a1d071733d7111c9c014f024669f959182114e33\n",
      "  Preparing metadata (setup.py): started\n",
      "  Preparing metadata (setup.py): finished with status 'done'\n",
      "Collecting ftfy\n",
      "  Downloading ftfy-6.2.0-py3-none-any.whl (54 kB)\n",
      "     -------------------------------------- 54.4/54.4 kB 405.4 kB/s eta 0:00:00\n",
      "Requirement already satisfied: regex in d:\\anaconda\\lib\\site-packages (from clip==1.0) (2022.7.9)\n",
      "Requirement already satisfied: tqdm in d:\\anaconda\\lib\\site-packages (from clip==1.0) (4.64.1)\n",
      "Requirement already satisfied: torch in c:\\users\\86139\\appdata\\roaming\\python\\python39\\site-packages (from clip==1.0) (2.1.2+cu121)\n",
      "Requirement already satisfied: torchvision in d:\\anaconda\\lib\\site-packages (from clip==1.0) (0.16.2)\n",
      "Collecting wcwidth<0.3.0,>=0.2.12\n",
      "  Downloading wcwidth-0.2.13-py2.py3-none-any.whl (34 kB)\n",
      "Requirement already satisfied: typing-extensions in d:\\anaconda\\lib\\site-packages (from torch->clip==1.0) (4.9.0)\n",
      "Requirement already satisfied: jinja2 in d:\\anaconda\\lib\\site-packages (from torch->clip==1.0) (3.0.3)\n",
      "Requirement already satisfied: sympy in d:\\anaconda\\lib\\site-packages (from torch->clip==1.0) (1.11.1)\n",
      "Requirement already satisfied: networkx in d:\\anaconda\\lib\\site-packages (from torch->clip==1.0) (2.8.4)\n",
      "Requirement already satisfied: filelock in d:\\anaconda\\lib\\site-packages (from torch->clip==1.0) (3.6.0)\n",
      "Requirement already satisfied: fsspec in d:\\anaconda\\lib\\site-packages (from torch->clip==1.0) (2023.12.2)\n",
      "Requirement already satisfied: numpy in c:\\users\\86139\\appdata\\roaming\\python\\python39\\site-packages (from torchvision->clip==1.0) (1.22.4)\n",
      "Requirement already satisfied: pillow!=8.3.*,>=5.3.0 in d:\\anaconda\\lib\\site-packages (from torchvision->clip==1.0) (10.2.0)\n",
      "Requirement already satisfied: requests in d:\\anaconda\\lib\\site-packages (from torchvision->clip==1.0) (2.25.1)\n",
      "Requirement already satisfied: colorama in d:\\anaconda\\lib\\site-packages (from tqdm->clip==1.0) (0.4.6)\n",
      "Requirement already satisfied: MarkupSafe>=2.0 in d:\\anaconda\\lib\\site-packages (from jinja2->torch->clip==1.0) (2.1.2)\n",
      "Requirement already satisfied: chardet<5,>=3.0.2 in d:\\anaconda\\lib\\site-packages (from requests->torchvision->clip==1.0) (4.0.0)\n",
      "Requirement already satisfied: idna<3,>=2.5 in d:\\anaconda\\lib\\site-packages (from requests->torchvision->clip==1.0) (2.10)\n",
      "Requirement already satisfied: certifi>=2017.4.17 in d:\\anaconda\\lib\\site-packages (from requests->torchvision->clip==1.0) (2023.5.7)\n",
      "Requirement already satisfied: urllib3<1.27,>=1.21.1 in d:\\anaconda\\lib\\site-packages (from requests->torchvision->clip==1.0) (1.26.13)\n",
      "Requirement already satisfied: mpmath>=0.19 in d:\\anaconda\\lib\\site-packages (from sympy->torch->clip==1.0) (1.2.1)\n",
      "Building wheels for collected packages: clip\n",
      "  Building wheel for clip (setup.py): started\n",
      "  Building wheel for clip (setup.py): finished with status 'done'\n",
      "  Created wheel for clip: filename=clip-1.0-py3-none-any.whl size=1369572 sha256=ddf4e2806e6ac1c7511b32abff6ad8d4953a9d8f160b7afb1ecb15d346aac9ea\n",
      "  Stored in directory: C:\\Users\\86139\\AppData\\Local\\Temp\\pip-ephem-wheel-cache-0vb4w27f\\wheels\\c8\\e4\\e1\\11374c111387672fc2068dfbe0d4b424cb9cdd1b2e184a71b5\n",
      "Successfully built clip\n",
      "Installing collected packages: wcwidth, ftfy, clip\n",
      "  Attempting uninstall: wcwidth\n",
      "    Found existing installation: wcwidth 0.2.5\n",
      "    Uninstalling wcwidth-0.2.5:\n",
      "      Successfully uninstalled wcwidth-0.2.5\n",
      "Successfully installed clip-1.0 ftfy-6.2.0 wcwidth-0.2.13\n",
      "Note: you may need to restart the kernel to use updated packages.\n"
     ]
    },
    {
     "name": "stderr",
     "output_type": "stream",
     "text": [
      "WARNING: Ignoring invalid distribution -yltp (d:\\anaconda\\lib\\site-packages)\n",
      "WARNING: Ignoring invalid distribution -umpy (d:\\anaconda\\lib\\site-packages)\n",
      "WARNING: Ignoring invalid distribution -rotobuf (d:\\anaconda\\lib\\site-packages)\n",
      "WARNING: Ignoring invalid distribution -atplotlib (d:\\anaconda\\lib\\site-packages)\n",
      "WARNING: Ignoring invalid distribution -yltp (d:\\anaconda\\lib\\site-packages)\n",
      "WARNING: Ignoring invalid distribution -umpy (d:\\anaconda\\lib\\site-packages)\n",
      "WARNING: Ignoring invalid distribution -rotobuf (d:\\anaconda\\lib\\site-packages)\n",
      "WARNING: Ignoring invalid distribution -atplotlib (d:\\anaconda\\lib\\site-packages)\n",
      "  Running command git clone --filter=blob:none --quiet https://github.com/openai/CLIP.git 'C:\\Users\\86139\\AppData\\Local\\Temp\\pip-req-build-ppcheiw5'\n",
      "WARNING: Ignoring invalid distribution -yltp (d:\\anaconda\\lib\\site-packages)\n",
      "WARNING: Ignoring invalid distribution -umpy (d:\\anaconda\\lib\\site-packages)\n",
      "WARNING: Ignoring invalid distribution -rotobuf (d:\\anaconda\\lib\\site-packages)\n",
      "WARNING: Ignoring invalid distribution -atplotlib (d:\\anaconda\\lib\\site-packages)\n",
      "    WARNING: Ignoring invalid distribution -yltp (d:\\anaconda\\lib\\site-packages)\n",
      "    WARNING: Ignoring invalid distribution -umpy (d:\\anaconda\\lib\\site-packages)\n",
      "    WARNING: Ignoring invalid distribution -rotobuf (d:\\anaconda\\lib\\site-packages)\n",
      "    WARNING: Ignoring invalid distribution -atplotlib (d:\\anaconda\\lib\\site-packages)\n",
      "WARNING: Ignoring invalid distribution -yltp (d:\\anaconda\\lib\\site-packages)\n",
      "WARNING: Ignoring invalid distribution -umpy (d:\\anaconda\\lib\\site-packages)\n",
      "WARNING: Ignoring invalid distribution -rotobuf (d:\\anaconda\\lib\\site-packages)\n",
      "WARNING: Ignoring invalid distribution -atplotlib (d:\\anaconda\\lib\\site-packages)\n",
      "WARNING: Ignoring invalid distribution -yltp (d:\\anaconda\\lib\\site-packages)\n",
      "WARNING: Ignoring invalid distribution -umpy (d:\\anaconda\\lib\\site-packages)\n",
      "WARNING: Ignoring invalid distribution -rotobuf (d:\\anaconda\\lib\\site-packages)\n",
      "WARNING: Ignoring invalid distribution -atplotlib (d:\\anaconda\\lib\\site-packages)\n",
      "WARNING: Ignoring invalid distribution -yltp (d:\\anaconda\\lib\\site-packages)\n",
      "WARNING: Ignoring invalid distribution -umpy (d:\\anaconda\\lib\\site-packages)\n",
      "WARNING: Ignoring invalid distribution -rotobuf (d:\\anaconda\\lib\\site-packages)\n",
      "WARNING: Ignoring invalid distribution -atplotlib (d:\\anaconda\\lib\\site-packages)\n",
      "WARNING: Ignoring invalid distribution -yltp (d:\\anaconda\\lib\\site-packages)\n",
      "WARNING: Ignoring invalid distribution -umpy (d:\\anaconda\\lib\\site-packages)\n",
      "WARNING: Ignoring invalid distribution -rotobuf (d:\\anaconda\\lib\\site-packages)\n",
      "WARNING: Ignoring invalid distribution -atplotlib (d:\\anaconda\\lib\\site-packages)\n",
      "WARNING: Ignoring invalid distribution -yltp (d:\\anaconda\\lib\\site-packages)\n",
      "WARNING: Ignoring invalid distribution -umpy (d:\\anaconda\\lib\\site-packages)\n",
      "WARNING: Ignoring invalid distribution -rotobuf (d:\\anaconda\\lib\\site-packages)\n",
      "WARNING: Ignoring invalid distribution -atplotlib (d:\\anaconda\\lib\\site-packages)\n",
      "WARNING: Ignoring invalid distribution -yltp (d:\\anaconda\\lib\\site-packages)\n",
      "WARNING: Ignoring invalid distribution -umpy (d:\\anaconda\\lib\\site-packages)\n",
      "WARNING: Ignoring invalid distribution -rotobuf (d:\\anaconda\\lib\\site-packages)\n",
      "WARNING: Ignoring invalid distribution -atplotlib (d:\\anaconda\\lib\\site-packages)\n"
     ]
    }
   ],
   "source": [
    "# %pip install git+https://github.com/openai/CLIP.git"
   ]
  },
  {
   "cell_type": "code",
   "execution_count": 2,
   "metadata": {},
   "outputs": [
    {
     "name": "stdout",
     "output_type": "stream",
     "text": [
      "Files already downloaded and verified\n",
      "\n",
      "Top predictions:\n",
      "\n",
      "           snake: 65.53%\n",
      "          turtle: 12.12%\n",
      "    sweet_pepper: 3.87%\n",
      "          lizard: 1.89%\n",
      "       crocodile: 1.72%\n"
     ]
    }
   ],
   "source": [
    "import os\n",
    "import clip\n",
    "import torch\n",
    "from torchvision.datasets import CIFAR100\n",
    "\n",
    "# Load the model\n",
    "device = \"cuda\" if torch.cuda.is_available() else \"cpu\"\n",
    "model, preprocess = clip.load('ViT-B/32', device)\n",
    "\n",
    "# Download the dataset\n",
    "cifar100 = CIFAR100(root=os.path.expanduser(\"../data/\"), download=True, train=False)\n",
    "\n",
    "# Prepare the inputs\n",
    "image, class_id = cifar100[3637]\n",
    "image_input = preprocess(image).unsqueeze(0).to(device)\n",
    "text_inputs = torch.cat([clip.tokenize(f\"a photo of a {c}\") for c in cifar100.classes]).to(device)\n",
    "\n",
    "# Calculate features\n",
    "with torch.no_grad():\n",
    "    image_features = model.encode_image(image_input)\n",
    "    text_features = model.encode_text(text_inputs)\n",
    "\n",
    "# Pick the top 5 most similar labels for the image\n",
    "image_features /= image_features.norm(dim=-1, keepdim=True)\n",
    "text_features /= text_features.norm(dim=-1, keepdim=True)\n",
    "similarity = (100.0 * image_features @ text_features.T).softmax(dim=-1)\n",
    "values, indices = similarity[0].topk(5)\n",
    "\n",
    "# Print the result\n",
    "print(\"\\nTop predictions:\\n\")\n",
    "for value, index in zip(values, indices):\n",
    "    print(f\"{cifar100.classes[index]:>16s}: {100 * value.item():.2f}%\")"
   ]
  }
 ],
 "metadata": {
  "kernelspec": {
   "display_name": "base",
   "language": "python",
   "name": "python3"
  },
  "language_info": {
   "codemirror_mode": {
    "name": "ipython",
    "version": 3
   },
   "file_extension": ".py",
   "mimetype": "text/x-python",
   "name": "python",
   "nbconvert_exporter": "python",
   "pygments_lexer": "ipython3",
   "version": "3.9.12"
  }
 },
 "nbformat": 4,
 "nbformat_minor": 2
}
